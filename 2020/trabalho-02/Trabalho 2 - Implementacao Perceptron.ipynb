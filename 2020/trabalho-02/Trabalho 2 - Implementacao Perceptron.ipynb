{
 "cells": [
  {
   "cell_type": "markdown",
   "metadata": {},
   "source": [
    "## Implementação de um Classificador Perceptron"
   ]
  },
  {
   "cell_type": "code",
   "execution_count": 274,
   "metadata": {},
   "outputs": [],
   "source": [
    "import numpy as np\n",
    "import pandas as pd\n",
    "import matplotlib.pyplot as plt\n",
    "import seaborn as sns\n",
    "\n",
    "from tqdm import tqdm\n",
    "\n",
    "%matplotlib inline"
   ]
  },
  {
   "cell_type": "code",
   "execution_count": 275,
   "metadata": {},
   "outputs": [],
   "source": [
    "class Perceptron(object):\n",
    "    \"\"\"Perceptron classifier.\n",
    "\n",
    "    Parameters\n",
    "    ------------\n",
    "    eta : float\n",
    "      Learning rate (between 0.0 and 1.0)\n",
    "    n_iter : int\n",
    "      Passes over the training dataset.\n",
    "    random_state : int\n",
    "      Random number generator seed for random weight\n",
    "      initialization.\n",
    "\n",
    "    Attributes\n",
    "    -----------\n",
    "    w_ : 1d-array\n",
    "      Weights after fitting.\n",
    "    errors_ : list\n",
    "      Number of misclassifications (updates) in each epoch.\n",
    "\n",
    "    \"\"\"\n",
    "    def __init__(self, eta=0.01, n_iter=50, random_state=1):\n",
    "        self.eta = eta\n",
    "        self.n_iter = n_iter\n",
    "        self.random_state = random_state\n",
    "\n",
    "    def fit(self, X, y, verbose=False):\n",
    "        \"\"\"Fit training data.\n",
    "\n",
    "        Parameters\n",
    "        ----------\n",
    "        X : {array-like}, shape = [n_examples, n_features]\n",
    "          Training vectors, where n_examples is the number of examples and\n",
    "          n_features is the number of features.\n",
    "        y : array-like, shape = [n_examples]\n",
    "          Target values.\n",
    "\n",
    "        Returns\n",
    "        -------\n",
    "        self : object\n",
    "\n",
    "        \"\"\"\n",
    "        rgen = np.random.RandomState(self.random_state)\n",
    "        self.w_ = rgen.normal(loc=0.0, scale=0.01, size=1 + X.shape[1])\n",
    "        self.errors_ = []\n",
    "\n",
    "        for _ in (tqdm(range(self.n_iter)) if verbose else range(self.n_iter)):\n",
    "            errors = 0\n",
    "            for xi, target in zip(X, y):\n",
    "                update = self.eta * (target - self.predict(xi))\n",
    "                self.w_[1:] += update * xi\n",
    "                self.w_[0] += update\n",
    "                errors += int(update != 0.0)\n",
    "            self.errors_.append(errors)\n",
    "        return self\n",
    "\n",
    "    def net_input(self, X):\n",
    "        \"\"\"Calculate net input\"\"\"\n",
    "        return np.dot(X, self.w_[1:]) + self.w_[0]\n",
    "\n",
    "    def predict(self, X):\n",
    "        \"\"\"Return class label after unit step\"\"\"\n",
    "        return np.where(self.net_input(X) >= 0.0, 1, -1)"
   ]
  },
  {
   "cell_type": "markdown",
   "metadata": {},
   "source": [
    "## Testando o classificador Perceptron"
   ]
  },
  {
   "cell_type": "code",
   "execution_count": 276,
   "metadata": {
    "tags": []
   },
   "outputs": [
    {
     "data": {
      "text/plain": [
       "(array([[1, 1],\n",
       "        [2, 2],\n",
       "        [3, 3]]),\n",
       " array([ 1,  1, -1]))"
      ]
     },
     "execution_count": 276,
     "metadata": {},
     "output_type": "execute_result"
    }
   ],
   "source": [
    "\"\"\"Dados de Treinamento \"\"\"\n",
    "X = np.array([[1, 1], \n",
    "              [2, 2],\n",
    "              [3, 3]])\n",
    "y = np.array([1, 1, -1])\n",
    "X, y"
   ]
  },
  {
   "cell_type": "code",
   "execution_count": 277,
   "metadata": {
    "scrolled": true,
    "tags": []
   },
   "outputs": [
    {
     "name": "stdout",
     "output_type": "stream",
     "text": [
      "Resultado da Predição [-1  1 -1]\n"
     ]
    }
   ],
   "source": [
    "\"\"\"Criando objeto Perceptron\"\"\"\n",
    "ppn = Perceptron(eta=0.1, n_iter=100)\n",
    "\n",
    "\"\"\"Treinando o modelo\"\"\"\n",
    "ppn.fit(X, y)\n",
    "\n",
    "\"\"\"Testando modelo treinado \"\"\"\n",
    "X_newdata = np.array([[4, 4],\n",
    "                      [2, 2],\n",
    "                      [3, 3]])\n",
    "\n",
    "print(\"Resultado da Predição\", ppn.predict(X_newdata))"
   ]
  },
  {
   "cell_type": "markdown",
   "metadata": {},
   "source": [
    "## Questão 1 - Implemente uma função para calcular a acurácia do modelo"
   ]
  },
  {
   "cell_type": "code",
   "execution_count": 278,
   "metadata": {},
   "outputs": [],
   "source": [
    "def compute_accuracy_score(y_true, y_pred, normalize=True):\n",
    "    \"\"\"Accuracy classification score for that model.\n",
    "\n",
    "    Parameters:\n",
    "    -----------\n",
    "    y_true: 1d array\n",
    "        The ground-truth array.\n",
    "    y_pred: 1d array\n",
    "        Predicted values for that arrangement\n",
    "    normalize: bool, optional (default=True)\n",
    "        If True returns the fraction of correcly classified samples.\n",
    "        Returns the number of classifications samples otherwise.\n",
    "    \"\"\"\n",
    "    score = y_true == y_pred\n",
    "\n",
    "    if normalize:\n",
    "        return score.sum()/score.shape[0]\n",
    "    return score.sum()"
   ]
  },
  {
   "cell_type": "markdown",
   "metadata": {},
   "source": [
    "## Questão 2 - Implemente um método de validação cruzada para testar "
   ]
  },
  {
   "cell_type": "code",
   "execution_count": 279,
   "metadata": {},
   "outputs": [],
   "source": [
    "from numpy.random import shuffle\n",
    "from sklearn.model_selection import train_test_split, cross_val_score"
   ]
  },
  {
   "cell_type": "code",
   "execution_count": 280,
   "metadata": {},
   "outputs": [],
   "source": [
    "def compute_cross_val_score(X, y, estimator=None, cv=5):\n",
    "    \"\"\"Generate evaluation scores by using cross-validation\n",
    "\n",
    "    Parameters\n",
    "    ----------\n",
    "    estimator\n",
    "    X\n",
    "    y\n",
    "    cv\n",
    "\n",
    "    Returns\n",
    "    -------\n",
    "    scores: array\n",
    "        The scores for each run of cross-validation\n",
    "\n",
    "\n",
    "    Algorithm Scratch\n",
    "    -----------------\n",
    "    Steps to perform the scores computation\n",
    "\n",
    "    Concatenate X and y: new matrix 'data' will have length 'm'\n",
    "    Shuffle 'data' randomly    \n",
    "    Split 'data' into 'k' sets (k = cv) in order to perform cross validation.\n",
    "    Each set should have length m/k.\n",
    "\n",
    "    For each unique group:\n",
    "        1) Take the group as a hold out or test dataset\n",
    "        2) Take the remaining groups as a training set\n",
    "        3) Fit a model on the training set and evaluate it on the test set.\n",
    "        4) Retain the evaluation score and discard the model\n",
    "\n",
    "    Summarize the skill of the model using the sample of model evaluation scores\n",
    "    \"\"\"\n",
    "    y = y.reshape((y.shape[0], 1))\n",
    "    data = np.concatenate((X, y), axis=1)\n",
    "    \n",
    "    shuffle(data)\n",
    "\n",
    "    m = data.shape[0]\n",
    "    k, r = np.divmod(m, cv)\n",
    "    k, r = int(k), int(r)\n",
    "\n",
    "    folds = []\n",
    "\n",
    "    for i in range(cv):\n",
    "        if (i+1)*k < (m-r):\n",
    "            folds.append(data[(i*k):(i+1)*k])\n",
    "        else:\n",
    "            folds.append(data[(i*k):((i+1)*k)+r])\n",
    "    \n",
    "    scores = []\n",
    "\n",
    "    for i, fold in enumerate(folds):\n",
    "        training_set = [fold for j, fold in enumerate(folds) if i!=j]\n",
    "        training_set = [item for sublist in training_set for item in sublist]\n",
    "        training_set = np.matrix(training_set)\n",
    "        training_set = np.squeeze(np.asarray(training_set))\n",
    "        \n",
    "        X_train, y_train = training_set[:, :-1], training_set[:, -1]\n",
    "        X_val, y_val = fold[:, :-1], fold[:, -1]\n",
    "                \n",
    "        estimator.fit(X_train, y_train)\n",
    "        y_pred = estimator.predict(X_val)\n",
    "        score = float(compute_accuracy_score(y_val, y_pred, normalize=True))\n",
    "        scores.append(score) # val is the current i - current validation set index\n",
    "    \n",
    "    return scores"
   ]
  },
  {
   "cell_type": "markdown",
   "metadata": {},
   "source": [
    "## Teste o classificador usando um conjunto de dados linearmente separável e outro não linearmente separável\n",
    "### Sugestão: crie datasets sintéticos com apenas dois atributos para você poder visualizar a separação das classes"
   ]
  },
  {
   "cell_type": "code",
   "execution_count": 281,
   "metadata": {},
   "outputs": [],
   "source": [
    "from sklearn.model_selection import train_test_split\n",
    "from sklearn.datasets import make_classification\n",
    "from sklearn.metrics import accuracy_score"
   ]
  },
  {
   "cell_type": "markdown",
   "metadata": {},
   "source": [
    "#### Part I\n",
    "\n",
    "##### 1) Creating a linearly separable dataset:"
   ]
  },
  {
   "cell_type": "code",
   "execution_count": 282,
   "metadata": {},
   "outputs": [
    {
     "data": {
      "text/plain": [
       "<matplotlib.axes._subplots.AxesSubplot at 0x7f44353e3d90>"
      ]
     },
     "execution_count": 282,
     "metadata": {},
     "output_type": "execute_result"
    },
    {
     "data": {
      "image/png": "[encoded data removed]",
      "text/plain": [
       "<Figure size 432x288 with 1 Axes>"
      ]
     },
     "metadata": {
      "needs_background": "light"
     },
     "output_type": "display_data"
    }
   ],
   "source": [
    "separable = False\n",
    "\n",
    "while not separable:\n",
    "    samples = make_classification(n_samples=100, n_features=2, n_redundant=0, n_informative=1, n_clusters_per_class=1, flip_y=-1)\n",
    "    red = samples[0][samples[1] == 0]\n",
    "    blue = samples[0][samples[1] == 1]\n",
    "    \n",
    "    separable = any([red[:, k].max() < blue[:, k].min() or red[:, k].min() > blue[:, k].max() for k in range(2)])\n",
    "\n",
    "\n",
    "df1 = pd.DataFrame(columns=['A', 'B', 'class'])\n",
    "df1['A'] = samples[0][:, 0]\n",
    "df1['B'] = samples[0][:, 1]\n",
    "df1['class'] = samples[1]\n",
    "\n",
    "sns.scatterplot(x=df1['A'], y=df1['B'], hue=df1['class'], palette='Set1')"
   ]
  },
  {
   "cell_type": "markdown",
   "metadata": {},
   "source": [
    "##### 2) Creating model"
   ]
  },
  {
   "cell_type": "code",
   "execution_count": 283,
   "metadata": {},
   "outputs": [],
   "source": [
    "# Instantiate Perceptron object\n",
    "ppn1 = Perceptron(eta=0.1, n_iter=100)\n",
    "\n",
    "# Split data into training and test sets using Scikit-Learn module\n",
    "X, y = df1[['A', 'B']], df1['class']\n",
    "X, y = X.to_numpy(), y.to_numpy()"
   ]
  },
  {
   "cell_type": "markdown",
   "metadata": {},
   "source": [
    "##### 3) Cross-validating the dataset"
   ]
  },
  {
   "cell_type": "code",
   "execution_count": 284,
   "metadata": {},
   "outputs": [
    {
     "name": "stdout",
     "output_type": "stream",
     "text": [
      "Cross-validation scores: [0.52, 0.36, 0.6, 0.52]\n",
      "Average: 0.5\n"
     ]
    }
   ],
   "source": [
    "scores = compute_cross_val_score(X, y, ppn1, cv=4)\n",
    "print(f\"Cross-validation scores: {scores}\") \n",
    "print(f\"Average: {np.average(scores)}\")"
   ]
  },
  {
   "cell_type": "markdown",
   "metadata": {},
   "source": [
    "#### Part II\n",
    "\n",
    "##### 1) Creating a linearly non-separable dataset:"
   ]
  },
  {
   "cell_type": "code",
   "execution_count": 294,
   "metadata": {},
   "outputs": [
    {
     "data": {
      "text/plain": [
       "<matplotlib.axes._subplots.AxesSubplot at 0x7f4434ff8a90>"
      ]
     },
     "execution_count": 294,
     "metadata": {},
     "output_type": "execute_result"
    },
    {
     "data": {
      "image/png": "[encoded data removed]",
      "text/plain": [
       "<Figure size 432x288 with 1 Axes>"
      ]
     },
     "metadata": {
      "needs_background": "light"
     },
     "output_type": "display_data"
    }
   ],
   "source": [
    "samples = make_classification(n_samples=100, n_features=2, n_redundant=0,\n",
    "                              n_informative=1, n_clusters_per_class=1, flip_y=-1)\n",
    "\n",
    "df2 = pd.DataFrame(columns=['A', 'B', 'class'])\n",
    "df2['A'] = samples[0][:, 0]\n",
    "df2['B'] = samples[0][:, 1]\n",
    "df2['class'] = samples[1]\n",
    "\n",
    "sns.scatterplot(x=df2['A'], y=df2['B'], hue=df2['class'], palette='Set1')"
   ]
  },
  {
   "cell_type": "markdown",
   "metadata": {},
   "source": [
    "##### 2) Creating model"
   ]
  },
  {
   "cell_type": "code",
   "execution_count": 295,
   "metadata": {},
   "outputs": [],
   "source": [
    "# Instantiate Perceptron object\n",
    "ppn2 = Perceptron(eta=0.1, n_iter=100)\n",
    "\n",
    "# Split data into training and test sets using Scikit-Learn module\n",
    "X, y = df2[['A', 'B']], df2['class']\n",
    "X, y = X.to_numpy(), y.to_numpy()"
   ]
  },
  {
   "cell_type": "markdown",
   "metadata": {},
   "source": [
    "##### 3) Cross-validating the dataset"
   ]
  },
  {
   "cell_type": "code",
   "execution_count": 296,
   "metadata": {},
   "outputs": [
    {
     "name": "stdout",
     "output_type": "stream",
     "text": [
      "Cross-validation scores: [0.68, 0.4, 0.24, 0.56]\n",
      "Average: 0.47000000000000003\n"
     ]
    }
   ],
   "source": [
    "scores = compute_cross_val_score(X, y, ppn2, cv=4)\n",
    "print(f\"Cross-validation scores: {scores}\") \n",
    "print(f\"Average: {np.average(scores)}\")"
   ]
  },
  {
   "cell_type": "markdown",
   "metadata": {},
   "source": [
    "## Questão 3 - Treine um classificador perceptron para os dados de seu estudo de caso"
   ]
  },
  {
   "cell_type": "markdown",
   "metadata": {},
   "source": [
    "For simplicity matters let's use the [**Iris Plants dataset**](https://archive.ics.uci.edu/ml/datasets/iris):"
   ]
  },
  {
   "cell_type": "markdown",
   "metadata": {},
   "source": [
    "##### 1) Getting data ready"
   ]
  },
  {
   "cell_type": "code",
   "execution_count": 288,
   "metadata": {},
   "outputs": [
    {
     "name": "stdout",
     "output_type": "stream",
     "text": [
      "<class 'pandas.core.frame.DataFrame'>\n",
      "Int64Index: 100 entries, 0 to 99\n",
      "Data columns (total 5 columns):\n",
      " #   Column             Non-Null Count  Dtype  \n",
      "---  ------             --------------  -----  \n",
      " 0   sepal length (cm)  100 non-null    float64\n",
      " 1   sepal width (cm)   100 non-null    float64\n",
      " 2   petal length (cm)  100 non-null    float64\n",
      " 3   petal width (cm)   100 non-null    float64\n",
      " 4   target             100 non-null    float64\n",
      "dtypes: float64(5)\n",
      "memory usage: 4.7 KB\n"
     ]
    }
   ],
   "source": [
    "from sklearn.datasets import load_iris, load_breast_cancer\n",
    "\n",
    "iris = load_iris()\n",
    "\n",
    "df = pd.DataFrame(data= np.c_[iris['data'], iris['target']], columns= iris['feature_names'] + ['target'])\n",
    "\n",
    "# Working with two classes only: ditch virginica class\n",
    "df = df[df['target'] != 2.0]\n",
    "\n",
    "df.info()"
   ]
  },
  {
   "cell_type": "markdown",
   "metadata": {},
   "source": [
    "##### 2) Creating model"
   ]
  },
  {
   "cell_type": "code",
   "execution_count": 289,
   "metadata": {},
   "outputs": [],
   "source": [
    "# Instantiate Perceptron object\n",
    "ppn = Perceptron(eta=0.1, n_iter=100)\n",
    "\n",
    "columns_list = list(df.columns)[:4]\n",
    "\n",
    "# Split data into training and test sets using Scikit-Learn module\n",
    "X, y = df[columns_list], df['target']\n",
    "X, y = X.to_numpy(), y.to_numpy()"
   ]
  },
  {
   "cell_type": "markdown",
   "metadata": {},
   "source": [
    "##### 3) Cross-validating the dataset"
   ]
  },
  {
   "cell_type": "code",
   "execution_count": 290,
   "metadata": {},
   "outputs": [
    {
     "name": "stdout",
     "output_type": "stream",
     "text": [
      "Cross-validation scores: [0.6060606060606061, 0.36363636363636365, 0.5294117647058824]\n",
      "Average: 0.4997029114676173\n"
     ]
    }
   ],
   "source": [
    "scores = compute_cross_val_score(X, y, ppn, cv=3)\n",
    "print(f\"Cross-validation scores: {scores}\") \n",
    "print(f\"Average: {np.average(scores)}\")"
   ]
  },
  {
   "cell_type": "markdown",
   "metadata": {},
   "source": [
    "## EXTRA: Performing a simple test using MultiLayer Perceptron"
   ]
  },
  {
   "cell_type": "code",
   "execution_count": 291,
   "metadata": {},
   "outputs": [
    {
     "name": "stdout",
     "output_type": "stream",
     "text": [
      "Using functions implemented before: \n",
      "Cross-validation scores: [0.36363636363636365, 0.42424242424242425, 0.29411764705882354]\n",
      "Average: 0.36066547831253715\n",
      "\n",
      "Using built-in scikit-learn Python modules: \n",
      "Cross-validation scores: [0.5        0.48484848 0.48484848]\n",
      "Average: 0.4898989898989899\n"
     ]
    }
   ],
   "source": [
    "from sklearn.neural_network import MLPClassifier\n",
    "from sklearn.model_selection import cross_val_score\n",
    "\n",
    "mlp = MLPClassifier(solver='lbfgs', alpha=1e-5, hidden_layer_sizes=(5, 2), random_state=1)\n",
    "\n",
    "scores = compute_cross_val_score(X, y, mlp, cv=3)\n",
    "print(\"Using functions implemented before: \")\n",
    "print(f\"Cross-validation scores: {scores}\") \n",
    "print(f\"Average: {np.average(scores)}\")\n",
    "\n",
    "scores = cross_val_score(mlp, X, y, cv=3)\n",
    "print(\"\\nUsing built-in scikit-learn Python modules: \")\n",
    "print(f\"Cross-validation scores: {scores}\") \n",
    "print(f\"Average: {np.average(scores)}\")"
   ]
  },
  {
   "cell_type": "code",
   "execution_count": null,
   "metadata": {},
   "outputs": [],
   "source": []
  }
 ],
 "metadata": {
  "kernelspec": {
   "display_name": "Python 3",
   "language": "python",
   "name": "python3"
  },
  "language_info": {
   "codemirror_mode": {
    "name": "ipython",
    "version": 3
   },
   "file_extension": ".py",
   "mimetype": "text/x-python",
   "name": "python",
   "nbconvert_exporter": "python",
   "pygments_lexer": "ipython3",
   "version": "3.8.3"
  }
 },
 "nbformat": 4,
 "nbformat_minor": 4
}
