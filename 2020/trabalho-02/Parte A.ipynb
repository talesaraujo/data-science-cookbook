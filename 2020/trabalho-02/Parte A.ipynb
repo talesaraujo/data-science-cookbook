{
 "cells": [
  {
   "cell_type": "markdown",
   "metadata": {},
   "source": [
    "## The data scientist *way of life*"
   ]
  },
  {
   "cell_type": "markdown",
   "metadata": {},
   "source": [
    "Um cientista de dados trabalha sobre diversos aspectos e circunstâncias e este trabalho tem como característica uma alta complexidade, mesmo em casos mais simples. Podemos dizer que, para ser cientista de dados, inevitavelmente você não ficará restrito à sua área de origem, pois terá que se readaptar a cada tipo de caso e modelo de negócio que deseja implementar, estudar e aprender sobre o domínio de cada problema e, por consequência, terá que se manter em constante aprendizado. Uma tarefa árdua, mas extremamente recompensadora, principalmente para aqueles que gostam de se pôr nesta condição de crescimento.\n",
    "\n",
    "Fazer ciência de dados não é algo que possui uma estrutura definida, um processo geral, um caminho a seguir, ao contrário do que se pensa. *Sim*, os passos de construção e avaliação do modelo-alvo têm um fluxo similar, mas pondo em vista uma perspectiva mais ampla, levando-se em consideração a organização, que o profissional faz parte, é algo bem complexo de ser definido. São diversas as estratégias que podem ser empregadas, e deve-se enfatizar naquelas que foquem o valor que será gerado ao seguir tal caminho. Cada empresa, time, instituição é tão diferente em seus mecanismos que não há definição de um *framework* que funcione para qualquer caso, inclusive para os *lone wolfs* (pessoas que estão trabalhando por conta própria e/ou em times pequenos) e que busquem um objetivo. Toda esta liberdade dá margem para que desentendimentos e frustrações ocorram, por isso é importante procurar um projeto, time ou organização que tenha aspirações alinhadas com o objetivo crítico e espectativa de carreira a ser trilhada.\n",
    "\n",
    "Diversos são os tipos de dados e domínios envolvidos na tarefa, e para isto é necessário ter um conhecimento da técnica suficiente para construir um modelo que gere resultados convincentes. Desde casos mais simples, aos largos conjuntos de dados de instituições e organizações, esses dados envolvem tratamento de variáveis categóricas, numéricas e temporais, e cada situação exige uma demanda diferente no que concerne ao tratamento e estratégia utilizada.\n",
    "\n"
   ]
  },
  {
   "cell_type": "markdown",
   "metadata": {},
   "source": [
    "## Arquitetura de Processo"
   ]
  },
  {
   "cell_type": "markdown",
   "metadata": {},
   "source": [
    "Considerando a perspectiva de trabalho de um time em uma organização que procura entregar resultados de maneira ágil e desenvolver valor de uma maneira eficiente, podemos propor uma arquitetura de processo a ser seguida, em um modelo de ciclo de vida, segundo a base das as definições do [Processo do Time de Data Science Microsoft](https://docs.microsoft.com/en-us/azure/machine-learning/team-data-science-process/overview)."
   ]
  },
  {
   "cell_type": "markdown",
   "metadata": {},
   "source": [
    "Este ciclo determina quatro principais tarefas, intercambiáveis em um ciclo, em um processo com as seguintes etapas:"
   ]
  },
  {
   "cell_type": "markdown",
   "metadata": {},
   "source": [
    "#### 1. Entendimento do problema\n",
    "Tudo que possui relação com o estudo de caso e de domínio da questão a ser tratada, inclusive questões de conhecimento fora do escopo do trabalho, caso necessário.\n",
    "\n",
    "#### 2. Aquisição e entendimento dos dados\n",
    "Envolve processos de obtenção, geração, tratamento via ambiente/pipeline de execução. Após isto, executa-se a análise exploratória dos dados, limpeza, análise estatística e produz-se um trabalho de visualização para que os dados sejam melhor entendidos.\n",
    "\n",
    "#### 3. Modelamento do problema\n",
    "Na etapa de *pré-processamento*, realiza-se o tratamento e a preparação dos dados. Eles são selecionados de acordo com critérios de viabilidade (por exemplo: a dimensionalidade dos dados é simplificada, ou há uma amostragem artificial devido à má qualidade dos dados, etc) e daí são postos à prova em um modelo algorítmico pré-determinado pelo entendimento do problema, na etapa de *treinamento*. Os indicadores de desempenho são avaliados e, caso seja necessário (*quase sempre!*), realiza-se uma *tunagem* de hiperparâmetros para a construção do melhor modelo para o problema, seguindo os critérios pré-determinados (seleção de modelo, validação cruzada, otimização de hiperparâmetros etc). Por fim, os dados são testados com um conjunto alheio ao treinamento/validação, simulando novos dados, e o modelo se torna apto para a próxima etapa.\n",
    "\n",
    "#### 4. *Deployment*\n",
    "O modelo é empregado no *workflow* de *deploy* das eventuais aplicações dependentes daquele modelo de negócio. Há a coleta de dados e de índices de desempenho para uso de *feedback* e assim poder adaptar e melhorar o já existente, reiniciando o passo anterior. O valor é entregue à proposta-alvo."
   ]
  },
  {
   "cell_type": "markdown",
   "metadata": {},
   "source": [
    "O diagrama a seguir faz um resumo de como este ciclo deve funcionar:"
   ]
  },
  {
   "cell_type": "markdown",
   "metadata": {},
   "source": [
    "![](data-scientist-lifecycle.png)"
   ]
  },
  {
   "cell_type": "markdown",
   "metadata": {},
   "source": [
    "# Referências\n",
    "\n",
    "https://hbr.org/2018/08/what-data-scientists-really-do-according-to-35-data-scientists\n",
    "\n",
    "https://towardsdatascience.com/why-so-many-data-scientists-are-leaving-their-jobs-a1f0329d7ea4\n",
    "\n",
    "https://docs.microsoft.com/en-us/azure/machine-learning/team-data-science-process/overview\n",
    "\n",
    "https://www.youtube.com/watch?v=8Pzmrcu63oY\n",
    "\n",
    "https://onlinelibrary.wiley.com/doi/full/10.1111/jbl.12024?casa_token=x1D6NGLVwkIAAAAA%3AF1YuE3myV5fvG0LmZ1VlOf3kyJK1B6y-TyAk8HUQZavv_ZdyqMrvvCkzTG8TyENFgZ1j43aHfdhKY3srVw"
   ]
  }
 ],
 "metadata": {
  "kernelspec": {
   "display_name": "Python 3",
   "language": "python",
   "name": "python3"
  },
  "language_info": {
   "codemirror_mode": {
    "name": "ipython",
    "version": 3
   },
   "file_extension": ".py",
   "mimetype": "text/x-python",
   "name": "python",
   "nbconvert_exporter": "python",
   "pygments_lexer": "ipython3",
   "version": "3.8.3"
  }
 },
 "nbformat": 4,
 "nbformat_minor": 4
}
