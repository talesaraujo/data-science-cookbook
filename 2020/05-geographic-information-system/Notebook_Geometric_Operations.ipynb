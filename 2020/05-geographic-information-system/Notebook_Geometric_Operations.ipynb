{
 "cells": [
  {
   "cell_type": "markdown",
   "metadata": {},
   "source": [
    "# 1. Geocoding no Geopandas\n",
    "\n",
    "O Geocoding é o processo de transformar um endereço em coordenadas geográficas (formato numérico). Em contrapartida a geocodificação reversa transforma coordenadas em um endereço.\n",
    "\n",
    "Utilizando o geopandas, podemos fazer operação de geocoding através da função ``geocode()``, que recebe uma lista de endereços (string) e retorna um GeoDataFrame contendo o resultado em objetos `Point` na coluna `geometry`.\n",
    "\n",
    "Nós geocodificaremos os endereços armazenados em um arquivo de texto chamado `roubos.csv`, que é uma pequena amostra com apenas 5 tuplas contendo informações de eventos de roubos que aconteceram na cidade de Fortaleza.\n",
    "\n",
    "vamos carregar os dados utilizando pandas com a função `read_csv()` e mostrá-los."
   ]
  },
  {
   "cell_type": "code",
   "execution_count": 1,
   "metadata": {},
   "outputs": [
    {
     "data": {
      "text/html": [
       "<div>\n",
       "<style scoped>\n",
       "    .dataframe tbody tr th:only-of-type {\n",
       "        vertical-align: middle;\n",
       "    }\n",
       "\n",
       "    .dataframe tbody tr th {\n",
       "        vertical-align: top;\n",
       "    }\n",
       "\n",
       "    .dataframe thead th {\n",
       "        text-align: right;\n",
       "    }\n",
       "</style>\n",
       "<table border=\"1\" class=\"dataframe\">\n",
       "  <thead>\n",
       "    <tr style=\"text-align: right;\">\n",
       "      <th></th>\n",
       "      <th>natureza</th>\n",
       "      <th>localTipo</th>\n",
       "      <th>logradouro</th>\n",
       "      <th>complEnder</th>\n",
       "      <th>localNumero</th>\n",
       "      <th>municipioOficial</th>\n",
       "      <th>bairroOficial</th>\n",
       "    </tr>\n",
       "  </thead>\n",
       "  <tbody>\n",
       "    <tr>\n",
       "      <th>0</th>\n",
       "      <td>ROUBO A PESSOA</td>\n",
       "      <td>ESTACIONAMENTO</td>\n",
       "      <td>R TABELIÃO FABIÃO</td>\n",
       "      <td>SAIDA DO NORTH SHOPPING</td>\n",
       "      <td>2450</td>\n",
       "      <td>Fortaleza</td>\n",
       "      <td>São Gerardo Alagadiço</td>\n",
       "    </tr>\n",
       "    <tr>\n",
       "      <th>1</th>\n",
       "      <td>ROUBO A PESSOA</td>\n",
       "      <td>VIA PUBLICA</td>\n",
       "      <td>AV BEZERRA DE MENEZES</td>\n",
       "      <td>NORTH SHOPPING</td>\n",
       "      <td>2450</td>\n",
       "      <td>Fortaleza</td>\n",
       "      <td>São Gerardo Alagadiço</td>\n",
       "    </tr>\n",
       "    <tr>\n",
       "      <th>2</th>\n",
       "      <td>ROUBO A PESSOA</td>\n",
       "      <td>VIA PUBLICA</td>\n",
       "      <td>R RUA FRANCISCO FERREIRA BAIMA</td>\n",
       "      <td>MESSEJANA</td>\n",
       "      <td>461</td>\n",
       "      <td>Fortaleza</td>\n",
       "      <td>Messejana</td>\n",
       "    </tr>\n",
       "    <tr>\n",
       "      <th>3</th>\n",
       "      <td>ROUBO A PESSOA</td>\n",
       "      <td>VIA PUBLICA</td>\n",
       "      <td>AV FREI CIRILO</td>\n",
       "      <td>PIZZARIA FILHO DA PROMESSA</td>\n",
       "      <td>4843</td>\n",
       "      <td>Fortaleza</td>\n",
       "      <td>Messejana</td>\n",
       "    </tr>\n",
       "    <tr>\n",
       "      <th>4</th>\n",
       "      <td>ROUBO (OUTROS)</td>\n",
       "      <td>ESTACIONAMENTO</td>\n",
       "      <td>AV WASHINGTON SOARES</td>\n",
       "      <td>EXPRESS CAR WASH</td>\n",
       "      <td>1500</td>\n",
       "      <td>Fortaleza</td>\n",
       "      <td>Eng. Luciano Cavalcante</td>\n",
       "    </tr>\n",
       "  </tbody>\n",
       "</table>\n",
       "</div>"
      ],
      "text/plain": [
       "         natureza       localTipo                      logradouro  \\\n",
       "0  ROUBO A PESSOA  ESTACIONAMENTO               R TABELIÃO FABIÃO   \n",
       "1  ROUBO A PESSOA     VIA PUBLICA           AV BEZERRA DE MENEZES   \n",
       "2  ROUBO A PESSOA     VIA PUBLICA  R RUA FRANCISCO FERREIRA BAIMA   \n",
       "3  ROUBO A PESSOA     VIA PUBLICA                  AV FREI CIRILO   \n",
       "4  ROUBO (OUTROS)  ESTACIONAMENTO            AV WASHINGTON SOARES   \n",
       "\n",
       "                   complEnder  localNumero municipioOficial  \\\n",
       "0     SAIDA DO NORTH SHOPPING         2450        Fortaleza   \n",
       "1              NORTH SHOPPING         2450        Fortaleza   \n",
       "2                   MESSEJANA          461        Fortaleza   \n",
       "3  PIZZARIA FILHO DA PROMESSA         4843        Fortaleza   \n",
       "4            EXPRESS CAR WASH         1500        Fortaleza   \n",
       "\n",
       "             bairroOficial  \n",
       "0    São Gerardo Alagadiço  \n",
       "1    São Gerardo Alagadiço  \n",
       "2                Messejana  \n",
       "3                Messejana  \n",
       "4  Eng. Luciano Cavalcante  "
      ]
     },
     "execution_count": 1,
     "metadata": {},
     "output_type": "execute_result"
    }
   ],
   "source": [
    "# Import necessary modules\n",
    "import pandas as pd\n",
    "import geopandas as gpd\n",
    "from shapely.geometry import Point\n",
    "\n",
    "# Filepath\n",
    "fp = r\"data/roubos.csv\"\n",
    "\n",
    "# Read the data\n",
    "data = pd.read_csv(fp, sep=',')\n",
    "data"
   ]
  },
  {
   "cell_type": "markdown",
   "metadata": {},
   "source": [
    "Perceba que apesar de possuírmos informação de endereço, não temos coordenadas dos eventos, o que dificulta qualquer tipo de análise. Para obtermos as coordenadas vamos fazer o geocoding dos endereços."
   ]
  },
  {
   "cell_type": "markdown",
   "metadata": {},
   "source": [
    "Mas antes, vamos unir todas as informações de endereço em uma coluna só chamada de `endereco`."
   ]
  },
  {
   "cell_type": "code",
   "execution_count": 2,
   "metadata": {},
   "outputs": [
    {
     "data": {
      "text/html": [
       "<div>\n",
       "<style scoped>\n",
       "    .dataframe tbody tr th:only-of-type {\n",
       "        vertical-align: middle;\n",
       "    }\n",
       "\n",
       "    .dataframe tbody tr th {\n",
       "        vertical-align: top;\n",
       "    }\n",
       "\n",
       "    .dataframe thead th {\n",
       "        text-align: right;\n",
       "    }\n",
       "</style>\n",
       "<table border=\"1\" class=\"dataframe\">\n",
       "  <thead>\n",
       "    <tr style=\"text-align: right;\">\n",
       "      <th></th>\n",
       "      <th>natureza</th>\n",
       "      <th>localTipo</th>\n",
       "      <th>logradouro</th>\n",
       "      <th>complEnder</th>\n",
       "      <th>localNumero</th>\n",
       "      <th>municipioOficial</th>\n",
       "      <th>bairroOficial</th>\n",
       "      <th>endereco</th>\n",
       "    </tr>\n",
       "  </thead>\n",
       "  <tbody>\n",
       "    <tr>\n",
       "      <th>0</th>\n",
       "      <td>ROUBO A PESSOA</td>\n",
       "      <td>ESTACIONAMENTO</td>\n",
       "      <td>R TABELIÃO FABIÃO</td>\n",
       "      <td>SAIDA DO NORTH SHOPPING</td>\n",
       "      <td>2450</td>\n",
       "      <td>Fortaleza</td>\n",
       "      <td>São Gerardo Alagadiço</td>\n",
       "      <td>R TABELIÃO FABIÃO, 2450</td>\n",
       "    </tr>\n",
       "    <tr>\n",
       "      <th>1</th>\n",
       "      <td>ROUBO A PESSOA</td>\n",
       "      <td>VIA PUBLICA</td>\n",
       "      <td>AV BEZERRA DE MENEZES</td>\n",
       "      <td>NORTH SHOPPING</td>\n",
       "      <td>2450</td>\n",
       "      <td>Fortaleza</td>\n",
       "      <td>São Gerardo Alagadiço</td>\n",
       "      <td>AV BEZERRA DE MENEZES, 2450</td>\n",
       "    </tr>\n",
       "    <tr>\n",
       "      <th>2</th>\n",
       "      <td>ROUBO A PESSOA</td>\n",
       "      <td>VIA PUBLICA</td>\n",
       "      <td>R RUA FRANCISCO FERREIRA BAIMA</td>\n",
       "      <td>MESSEJANA</td>\n",
       "      <td>461</td>\n",
       "      <td>Fortaleza</td>\n",
       "      <td>Messejana</td>\n",
       "      <td>R RUA FRANCISCO FERREIRA BAIMA, 461</td>\n",
       "    </tr>\n",
       "    <tr>\n",
       "      <th>3</th>\n",
       "      <td>ROUBO A PESSOA</td>\n",
       "      <td>VIA PUBLICA</td>\n",
       "      <td>AV FREI CIRILO</td>\n",
       "      <td>PIZZARIA FILHO DA PROMESSA</td>\n",
       "      <td>4843</td>\n",
       "      <td>Fortaleza</td>\n",
       "      <td>Messejana</td>\n",
       "      <td>AV FREI CIRILO, 4843</td>\n",
       "    </tr>\n",
       "    <tr>\n",
       "      <th>4</th>\n",
       "      <td>ROUBO (OUTROS)</td>\n",
       "      <td>ESTACIONAMENTO</td>\n",
       "      <td>AV WASHINGTON SOARES</td>\n",
       "      <td>EXPRESS CAR WASH</td>\n",
       "      <td>1500</td>\n",
       "      <td>Fortaleza</td>\n",
       "      <td>Eng. Luciano Cavalcante</td>\n",
       "      <td>AV WASHINGTON SOARES, 1500</td>\n",
       "    </tr>\n",
       "  </tbody>\n",
       "</table>\n",
       "</div>"
      ],
      "text/plain": [
       "         natureza       localTipo                      logradouro  \\\n",
       "0  ROUBO A PESSOA  ESTACIONAMENTO               R TABELIÃO FABIÃO   \n",
       "1  ROUBO A PESSOA     VIA PUBLICA           AV BEZERRA DE MENEZES   \n",
       "2  ROUBO A PESSOA     VIA PUBLICA  R RUA FRANCISCO FERREIRA BAIMA   \n",
       "3  ROUBO A PESSOA     VIA PUBLICA                  AV FREI CIRILO   \n",
       "4  ROUBO (OUTROS)  ESTACIONAMENTO            AV WASHINGTON SOARES   \n",
       "\n",
       "                   complEnder  localNumero municipioOficial  \\\n",
       "0     SAIDA DO NORTH SHOPPING         2450        Fortaleza   \n",
       "1              NORTH SHOPPING         2450        Fortaleza   \n",
       "2                   MESSEJANA          461        Fortaleza   \n",
       "3  PIZZARIA FILHO DA PROMESSA         4843        Fortaleza   \n",
       "4            EXPRESS CAR WASH         1500        Fortaleza   \n",
       "\n",
       "             bairroOficial                             endereco  \n",
       "0    São Gerardo Alagadiço              R TABELIÃO FABIÃO, 2450  \n",
       "1    São Gerardo Alagadiço          AV BEZERRA DE MENEZES, 2450  \n",
       "2                Messejana  R RUA FRANCISCO FERREIRA BAIMA, 461  \n",
       "3                Messejana                 AV FREI CIRILO, 4843  \n",
       "4  Eng. Luciano Cavalcante           AV WASHINGTON SOARES, 1500  "
      ]
     },
     "execution_count": 2,
     "metadata": {},
     "output_type": "execute_result"
    }
   ],
   "source": [
    "data['endereco'] = data['logradouro'] + ', ' + data['localNumero'].apply(str)\n",
    "data.head()"
   ]
  },
  {
   "cell_type": "markdown",
   "metadata": {},
   "source": [
    "Agora vamos transformar os endereços em coordenadas usando `geocode()` com a ferramente de busca de dados Nominatim que realiza consultas no OpenStreetMap.\n",
    "\n",
    "Antes será necessário instalar a biblioteca geopy com o pip, para isso utilize o comando: pip install geopy"
   ]
  },
  {
   "cell_type": "code",
   "execution_count": 4,
   "metadata": {},
   "outputs": [],
   "source": [
    "# Import the geocoding tool\n",
    "from geopandas.tools import geocode\n",
    "\n",
    "# Geocode addresses with Nominatim backend\n",
    "geo = geocode(data['endereco'], provider = 'nominatim', user_agent ='carlos')"
   ]
  },
  {
   "cell_type": "code",
   "execution_count": 5,
   "metadata": {},
   "outputs": [
    {
     "data": {
      "text/html": [
       "<div>\n",
       "<style scoped>\n",
       "    .dataframe tbody tr th:only-of-type {\n",
       "        vertical-align: middle;\n",
       "    }\n",
       "\n",
       "    .dataframe tbody tr th {\n",
       "        vertical-align: top;\n",
       "    }\n",
       "\n",
       "    .dataframe thead th {\n",
       "        text-align: right;\n",
       "    }\n",
       "</style>\n",
       "<table border=\"1\" class=\"dataframe\">\n",
       "  <thead>\n",
       "    <tr style=\"text-align: right;\">\n",
       "      <th></th>\n",
       "      <th>geometry</th>\n",
       "      <th>address</th>\n",
       "    </tr>\n",
       "  </thead>\n",
       "  <tbody>\n",
       "    <tr>\n",
       "      <th>0</th>\n",
       "      <td>POINT (-38.56549 -3.73367)</td>\n",
       "      <td>Rua Tabelião Fabião, Presidente Kennedy, Forta...</td>\n",
       "    </tr>\n",
       "    <tr>\n",
       "      <th>1</th>\n",
       "      <td>POINT (-38.54764 -3.73231)</td>\n",
       "      <td>Avenida Bezerra de Menezes, Parque Araxá, Fort...</td>\n",
       "    </tr>\n",
       "    <tr>\n",
       "      <th>2</th>\n",
       "      <td>POINT (-38.48605 -3.83091)</td>\n",
       "      <td>Rua Francisco Ferreira Baima, Messejana, Forta...</td>\n",
       "    </tr>\n",
       "    <tr>\n",
       "      <th>3</th>\n",
       "      <td>POINT (-38.49779 -3.81658)</td>\n",
       "      <td>Avenida Frei Cirilo, Messejana, Fortaleza, Mic...</td>\n",
       "    </tr>\n",
       "    <tr>\n",
       "      <th>4</th>\n",
       "      <td>POINT (-38.48035 -3.79197)</td>\n",
       "      <td>Avenida Washington Soares, Parque Manibura, Fo...</td>\n",
       "    </tr>\n",
       "  </tbody>\n",
       "</table>\n",
       "</div>"
      ],
      "text/plain": [
       "                     geometry  \\\n",
       "0  POINT (-38.56549 -3.73367)   \n",
       "1  POINT (-38.54764 -3.73231)   \n",
       "2  POINT (-38.48605 -3.83091)   \n",
       "3  POINT (-38.49779 -3.81658)   \n",
       "4  POINT (-38.48035 -3.79197)   \n",
       "\n",
       "                                             address  \n",
       "0  Rua Tabelião Fabião, Presidente Kennedy, Forta...  \n",
       "1  Avenida Bezerra de Menezes, Parque Araxá, Fort...  \n",
       "2  Rua Francisco Ferreira Baima, Messejana, Forta...  \n",
       "3  Avenida Frei Cirilo, Messejana, Fortaleza, Mic...  \n",
       "4  Avenida Washington Soares, Parque Manibura, Fo...  "
      ]
     },
     "execution_count": 5,
     "metadata": {},
     "output_type": "execute_result"
    }
   ],
   "source": [
    "geo"
   ]
  },
  {
   "cell_type": "markdown",
   "metadata": {},
   "source": [
    "Como resultado, temos um GeoDataFrame que contém nosso endereço e uma coluna 'geometry' contendo objeto Point que podemos usar para exportar os endereços para um Shapefile por exemplo.\n",
    "\n",
    "Como os indices das duas tabelas são iguais, podemos unir facilmente."
   ]
  },
  {
   "cell_type": "code",
   "execution_count": 6,
   "metadata": {},
   "outputs": [
    {
     "data": {
      "text/html": [
       "<div>\n",
       "<style scoped>\n",
       "    .dataframe tbody tr th:only-of-type {\n",
       "        vertical-align: middle;\n",
       "    }\n",
       "\n",
       "    .dataframe tbody tr th {\n",
       "        vertical-align: top;\n",
       "    }\n",
       "\n",
       "    .dataframe thead th {\n",
       "        text-align: right;\n",
       "    }\n",
       "</style>\n",
       "<table border=\"1\" class=\"dataframe\">\n",
       "  <thead>\n",
       "    <tr style=\"text-align: right;\">\n",
       "      <th></th>\n",
       "      <th>natureza</th>\n",
       "      <th>localTipo</th>\n",
       "      <th>logradouro</th>\n",
       "      <th>complEnder</th>\n",
       "      <th>localNumero</th>\n",
       "      <th>municipioOficial</th>\n",
       "      <th>bairroOficial</th>\n",
       "      <th>endereco</th>\n",
       "      <th>geometry</th>\n",
       "    </tr>\n",
       "  </thead>\n",
       "  <tbody>\n",
       "    <tr>\n",
       "      <th>0</th>\n",
       "      <td>ROUBO A PESSOA</td>\n",
       "      <td>ESTACIONAMENTO</td>\n",
       "      <td>R TABELIÃO FABIÃO</td>\n",
       "      <td>SAIDA DO NORTH SHOPPING</td>\n",
       "      <td>2450</td>\n",
       "      <td>Fortaleza</td>\n",
       "      <td>São Gerardo Alagadiço</td>\n",
       "      <td>R TABELIÃO FABIÃO, 2450</td>\n",
       "      <td>POINT (-38.56549 -3.73367)</td>\n",
       "    </tr>\n",
       "    <tr>\n",
       "      <th>1</th>\n",
       "      <td>ROUBO A PESSOA</td>\n",
       "      <td>VIA PUBLICA</td>\n",
       "      <td>AV BEZERRA DE MENEZES</td>\n",
       "      <td>NORTH SHOPPING</td>\n",
       "      <td>2450</td>\n",
       "      <td>Fortaleza</td>\n",
       "      <td>São Gerardo Alagadiço</td>\n",
       "      <td>AV BEZERRA DE MENEZES, 2450</td>\n",
       "      <td>POINT (-38.54764 -3.73231)</td>\n",
       "    </tr>\n",
       "    <tr>\n",
       "      <th>2</th>\n",
       "      <td>ROUBO A PESSOA</td>\n",
       "      <td>VIA PUBLICA</td>\n",
       "      <td>R RUA FRANCISCO FERREIRA BAIMA</td>\n",
       "      <td>MESSEJANA</td>\n",
       "      <td>461</td>\n",
       "      <td>Fortaleza</td>\n",
       "      <td>Messejana</td>\n",
       "      <td>R RUA FRANCISCO FERREIRA BAIMA, 461</td>\n",
       "      <td>POINT (-38.48605 -3.83091)</td>\n",
       "    </tr>\n",
       "    <tr>\n",
       "      <th>3</th>\n",
       "      <td>ROUBO A PESSOA</td>\n",
       "      <td>VIA PUBLICA</td>\n",
       "      <td>AV FREI CIRILO</td>\n",
       "      <td>PIZZARIA FILHO DA PROMESSA</td>\n",
       "      <td>4843</td>\n",
       "      <td>Fortaleza</td>\n",
       "      <td>Messejana</td>\n",
       "      <td>AV FREI CIRILO, 4843</td>\n",
       "      <td>POINT (-38.49779 -3.81658)</td>\n",
       "    </tr>\n",
       "    <tr>\n",
       "      <th>4</th>\n",
       "      <td>ROUBO (OUTROS)</td>\n",
       "      <td>ESTACIONAMENTO</td>\n",
       "      <td>AV WASHINGTON SOARES</td>\n",
       "      <td>EXPRESS CAR WASH</td>\n",
       "      <td>1500</td>\n",
       "      <td>Fortaleza</td>\n",
       "      <td>Eng. Luciano Cavalcante</td>\n",
       "      <td>AV WASHINGTON SOARES, 1500</td>\n",
       "      <td>POINT (-38.48035 -3.79197)</td>\n",
       "    </tr>\n",
       "  </tbody>\n",
       "</table>\n",
       "</div>"
      ],
      "text/plain": [
       "         natureza       localTipo                      logradouro  \\\n",
       "0  ROUBO A PESSOA  ESTACIONAMENTO               R TABELIÃO FABIÃO   \n",
       "1  ROUBO A PESSOA     VIA PUBLICA           AV BEZERRA DE MENEZES   \n",
       "2  ROUBO A PESSOA     VIA PUBLICA  R RUA FRANCISCO FERREIRA BAIMA   \n",
       "3  ROUBO A PESSOA     VIA PUBLICA                  AV FREI CIRILO   \n",
       "4  ROUBO (OUTROS)  ESTACIONAMENTO            AV WASHINGTON SOARES   \n",
       "\n",
       "                   complEnder  localNumero municipioOficial  \\\n",
       "0     SAIDA DO NORTH SHOPPING         2450        Fortaleza   \n",
       "1              NORTH SHOPPING         2450        Fortaleza   \n",
       "2                   MESSEJANA          461        Fortaleza   \n",
       "3  PIZZARIA FILHO DA PROMESSA         4843        Fortaleza   \n",
       "4            EXPRESS CAR WASH         1500        Fortaleza   \n",
       "\n",
       "             bairroOficial                             endereco  \\\n",
       "0    São Gerardo Alagadiço              R TABELIÃO FABIÃO, 2450   \n",
       "1    São Gerardo Alagadiço          AV BEZERRA DE MENEZES, 2450   \n",
       "2                Messejana  R RUA FRANCISCO FERREIRA BAIMA, 461   \n",
       "3                Messejana                 AV FREI CIRILO, 4843   \n",
       "4  Eng. Luciano Cavalcante           AV WASHINGTON SOARES, 1500   \n",
       "\n",
       "                     geometry  \n",
       "0  POINT (-38.56549 -3.73367)  \n",
       "1  POINT (-38.54764 -3.73231)  \n",
       "2  POINT (-38.48605 -3.83091)  \n",
       "3  POINT (-38.49779 -3.81658)  \n",
       "4  POINT (-38.48035 -3.79197)  "
      ]
     },
     "execution_count": 6,
     "metadata": {},
     "output_type": "execute_result"
    }
   ],
   "source": [
    "data['geometry'] = geo['geometry']\n",
    "data.head()"
   ]
  },
  {
   "cell_type": "markdown",
   "metadata": {},
   "source": [
    "### Notas sobre a ferramenta Nominatim\n",
    "\n",
    "Nominatim funciona relativamente bem se você tiver endereços bem definidos e bem conhecidos, como os que usamos neste tutorial. No entanto, em alguns casos, talvez você não tenha endereços bem definidos e você pode ter, por exemplo, apenas o nome de um shopping ou uma lanchonete. Nesses casos, a Nominatim pode não fornecer resultados tão bons e, porém você pode utilizar outras APIs como o [Google Geocoding API (V3)](https://developers.google.com/maps/documentation/geocoding/)."
   ]
  },
  {
   "cell_type": "markdown",
   "metadata": {},
   "source": [
    "# 2. Operações entre geometrias\n",
    "\n",
    "Descobrir se um certo ponto está localizado dentro ou fora de uma área,\n",
    "ou descobrir se uma linha cruza com outra linha ou polígono são\n",
    "operações geoespaciais fundamentais que são frequentemente usadas, e selecionar\n",
    "dados baseados na localização. Tais consultas espaciais são uma das primeiras etapas do fluxo de trabalho ao fazer análise espacial."
   ]
  },
  {
   "cell_type": "markdown",
   "metadata": {},
   "source": [
    "## 2.1 Como verificar se o ponto está dentro de um polígono?\n",
    "\n",
    "Computacionalmente, detectar se um ponto está dentro de um polígono é mais comumente feito utilizando uma fórmula específica chamada [algoritmo Ray Casting](https://en.wikipedia.org/wiki/Point_in_polygon#Ray_casting_algorithm). Em vez disso, podemos tomar\n",
    "vantagem dos [predicados binários de Shapely](http://toblerity.org/shapely/manual.html#binary-predicates)\n",
    "que podem avaliar as relações topológicas com os objetos.\n",
    "\n",
    "Existem basicamente duas maneiras de conduzir essa consulta com o Shapely:\n",
    "\n",
    "1. usando uma função chamada\n",
    "   [.within()](http://toblerity.org/shapely/manual.html#object.within)\n",
    "   que verifica se um ponto está dentro de um polígono\n",
    "2. usando uma função chamada\n",
    "   [.contains ()](http://toblerity.org/shapely/manual.html#object.contains)\n",
    "   que verifica se um polígono contém um ponto\n",
    "\n",
    "Aviso: apesar de estarmos falando aqui sobre a operação de **Point** dentro de um Polygon, também é possível verificar se um LineString ou Polygon esta dentro de outro Polygon.\n",
    "\n",
    "- Vamos primeiro criar um polígono usando uma lista de coordenadas-tuplas e um\n",
    "   par de objetos pontuais"
   ]
  },
  {
   "cell_type": "code",
   "execution_count": 7,
   "metadata": {},
   "outputs": [
    {
     "name": "stdout",
     "output_type": "stream",
     "text": [
      "POINT (24.952242 60.1696017)\n",
      "POINT (24.976567 60.16125)\n",
      "POLYGON ((24.950899 60.169158, 24.953492 60.169158, 24.95351 60.170104, 24.950958 60.16999, 24.950899 60.169158))\n"
     ]
    }
   ],
   "source": [
    "from shapely.geometry import Point, Polygon\n",
    "\n",
    "# Create Point objects\n",
    "p1 = Point(24.952242, 60.1696017)\n",
    "p2 = Point(24.976567, 60.1612500)\n",
    "\n",
    "# Create a Polygon\n",
    "coords = [(24.950899, 60.169158), (24.953492, 60.169158), (24.953510, 60.170104), (24.950958, 60.169990)]\n",
    "poly = Polygon(coords)\n",
    "\n",
    "# Let's check what we have\n",
    "print(p1)\n",
    "print(p2)\n",
    "print(poly)"
   ]
  },
  {
   "cell_type": "markdown",
   "metadata": {},
   "source": [
    "Vamos verificar se esses pontos estão dentro do polígono"
   ]
  },
  {
   "cell_type": "code",
   "execution_count": 8,
   "metadata": {},
   "outputs": [
    {
     "name": "stdout",
     "output_type": "stream",
     "text": [
      "True\n",
      "False\n"
     ]
    }
   ],
   "source": [
    "# Check if p1 is within the polygon using the within function\n",
    "print(p1.within(poly))\n",
    "\n",
    "# Check if p2 is within the polygon\n",
    "print(p2.within(poly))"
   ]
  },
  {
   "cell_type": "markdown",
   "metadata": {},
   "source": [
    "Então podemos ver que o primeiro ponto parece estar dentro do polígono e o segundo não.\n",
    "\n",
    "- Na verdade, o primeiro ponto é perto do centro do polígono, como nós\n",
    "    podemos ver se compararmos a localização do ponto com o centróide do polígono:"
   ]
  },
  {
   "cell_type": "code",
   "execution_count": 9,
   "metadata": {},
   "outputs": [
    {
     "name": "stdout",
     "output_type": "stream",
     "text": [
      "POINT (24.952242 60.1696017)\n",
      "POINT (24.95224242849236 60.16960179038188)\n"
     ]
    }
   ],
   "source": [
    "# Our point\n",
    "print(p1)\n",
    "\n",
    "# The centroid\n",
    "print(poly.centroid)"
   ]
  },
  {
   "cell_type": "markdown",
   "metadata": {},
   "source": [
    "## 2.2 Interseção"
   ]
  },
  {
   "cell_type": "markdown",
   "metadata": {},
   "source": [
    "Outra operação geoespacial típica é ver se uma geometria\n",
    "[intercepta](http://toblerity.org/shapely/manual.html#object.intersects) ou [toca](http://toblerity.org/shapely/manual.html#object.touches)\n",
    "outra geometria. A diferença entre esses dois é que:\n",
    "\n",
    "- Se os objetos se cruzam, o limite e o interior de um objeto precisa\n",
    "    interceptar com os do outro objeto.\n",
    "\n",
    "- Se um objeto tocar o outro, só é necessário ter (pelo menos) um ponto único de suas fronteiras em comum, mas seus interiores não se cruzam.\n",
    "\n",
    "Vamos tentar isso.\n",
    "\n",
    "- Vamos criar dois LineStrings"
   ]
  },
  {
   "cell_type": "code",
   "execution_count": 10,
   "metadata": {},
   "outputs": [],
   "source": [
    "from shapely.geometry import LineString, MultiLineString\n",
    "\n",
    "# Create two lines\n",
    "line_a = LineString([(0, 0), (1, 1)])\n",
    "line_b = LineString([(1, 1), (0, 2)])"
   ]
  },
  {
   "cell_type": "markdown",
   "metadata": {},
   "source": [
    "- Vamos ver se eles se interceptam"
   ]
  },
  {
   "cell_type": "code",
   "execution_count": 11,
   "metadata": {},
   "outputs": [
    {
     "data": {
      "text/plain": [
       "True"
      ]
     },
     "execution_count": 11,
     "metadata": {},
     "output_type": "execute_result"
    }
   ],
   "source": [
    "line_a.intersects(line_b)"
   ]
  },
  {
   "cell_type": "markdown",
   "metadata": {},
   "source": [
    "- Eles também tocam um ao outro?"
   ]
  },
  {
   "cell_type": "code",
   "execution_count": 12,
   "metadata": {},
   "outputs": [
    {
     "data": {
      "text/plain": [
       "True"
      ]
     },
     "execution_count": 12,
     "metadata": {},
     "output_type": "execute_result"
    }
   ],
   "source": [
    "line_a.touches(line_b)"
   ]
  },
  {
   "cell_type": "markdown",
   "metadata": {},
   "source": [
    "Sim, as duas operações são verdade e podemos ver isso plotando os dois objetos juntos."
   ]
  },
  {
   "cell_type": "code",
   "execution_count": 13,
   "metadata": {},
   "outputs": [
    {
     "data": {
      "image/svg+xml": [
       "<svg xmlns=\"http://www.w3.org/2000/svg\" xmlns:xlink=\"http://www.w3.org/1999/xlink\" width=\"100.0\" height=\"100.0\" viewBox=\"-0.08 -0.08 1.1600000000000001 2.16\" preserveAspectRatio=\"xMinYMin meet\"><g transform=\"matrix(1,0,0,-1,0,2.0)\"><g><polyline fill=\"none\" stroke=\"#66cc99\" stroke-width=\"0.0432\" points=\"0.0,0.0 1.0,1.0\" opacity=\"0.8\" /><polyline fill=\"none\" stroke=\"#66cc99\" stroke-width=\"0.0432\" points=\"1.0,1.0 0.0,2.0\" opacity=\"0.8\" /></g></g></svg>"
      ],
      "text/plain": [
       "<shapely.geometry.multilinestring.MultiLineString at 0x7f7e3d3de150>"
      ]
     },
     "execution_count": 13,
     "metadata": {},
     "output_type": "execute_result"
    }
   ],
   "source": [
    "# Create a MultiLineString from line_a and line_b\n",
    "multi_line = MultiLineString([line_a, line_b])\n",
    "multi_line"
   ]
  },
  {
   "cell_type": "markdown",
   "metadata": {},
   "source": [
    "## 2.3 Ponto dentro de polygon usando o geopandas"
   ]
  },
  {
   "cell_type": "markdown",
   "metadata": {},
   "source": [
    "Uma das estratégias adotadas pela Secretaria da Segurança Pública e Defesa Social (SSPDS) para o aperfeiçoamento de trabalhos policiais, periciais e bombeirísticos em território cearense é a delimitação do Estado em Áreas Integradas de Segurança (AIS).\n",
    "\n",
    "A cidade de fortaleza por si só é dividida em cerca de 10 áreas integradas de segurança (AIS). Vamos carregar estas divisões administrativas e visualizar elas."
   ]
  },
  {
   "cell_type": "code",
   "execution_count": 18,
   "metadata": {},
   "outputs": [],
   "source": [
    "ais_filep = 'data/ais.shp'\n",
    "\n",
    "ais_gdf = gpd.read_file(ais_filep)"
   ]
  },
  {
   "cell_type": "code",
   "execution_count": 19,
   "metadata": {},
   "outputs": [
    {
     "data": {
      "text/plain": [
       "<Geographic 2D CRS: EPSG:4326>\n",
       "Name: WGS 84\n",
       "Axis Info [ellipsoidal]:\n",
       "- Lat[north]: Geodetic latitude (degree)\n",
       "- Lon[east]: Geodetic longitude (degree)\n",
       "Area of Use:\n",
       "- name: World\n",
       "- bounds: (-180.0, -90.0, 180.0, 90.0)\n",
       "Datum: World Geodetic System 1984\n",
       "- Ellipsoid: WGS 84\n",
       "- Prime Meridian: Greenwich"
      ]
     },
     "execution_count": 19,
     "metadata": {},
     "output_type": "execute_result"
    }
   ],
   "source": [
    "ais_gdf.crs"
   ]
  },
  {
   "cell_type": "code",
   "execution_count": 20,
   "metadata": {},
   "outputs": [
    {
     "data": {
      "text/html": [
       "<div>\n",
       "<style scoped>\n",
       "    .dataframe tbody tr th:only-of-type {\n",
       "        vertical-align: middle;\n",
       "    }\n",
       "\n",
       "    .dataframe tbody tr th {\n",
       "        vertical-align: top;\n",
       "    }\n",
       "\n",
       "    .dataframe thead th {\n",
       "        text-align: right;\n",
       "    }\n",
       "</style>\n",
       "<table border=\"1\" class=\"dataframe\">\n",
       "  <thead>\n",
       "    <tr style=\"text-align: right;\">\n",
       "      <th></th>\n",
       "      <th>NM_MUNICIP</th>\n",
       "      <th>CD_GEOCODM</th>\n",
       "      <th>AIS</th>\n",
       "      <th>BAIRROS</th>\n",
       "      <th>CD_BAIRRO</th>\n",
       "      <th>NM_AIS</th>\n",
       "      <th>geometry</th>\n",
       "    </tr>\n",
       "  </thead>\n",
       "  <tbody>\n",
       "    <tr>\n",
       "      <th>0</th>\n",
       "      <td>FORTALEZA</td>\n",
       "      <td>2304400</td>\n",
       "      <td>6</td>\n",
       "      <td>Presidente Kennedy</td>\n",
       "      <td>62</td>\n",
       "      <td>AIS6</td>\n",
       "      <td>POLYGON Z ((-38.61706 -3.72012 0.00000, -38.61...</td>\n",
       "    </tr>\n",
       "    <tr>\n",
       "      <th>1</th>\n",
       "      <td>FORTALEZA</td>\n",
       "      <td>2304400</td>\n",
       "      <td>8</td>\n",
       "      <td>Jardim Iracema</td>\n",
       "      <td>63</td>\n",
       "      <td>AIS8</td>\n",
       "      <td>POLYGON Z ((-38.57230 -3.71230 0.00000, -38.57...</td>\n",
       "    </tr>\n",
       "    <tr>\n",
       "      <th>2</th>\n",
       "      <td>FORTALEZA</td>\n",
       "      <td>2304400</td>\n",
       "      <td>4</td>\n",
       "      <td>Farias Brito</td>\n",
       "      <td>66</td>\n",
       "      <td>AIS4</td>\n",
       "      <td>POLYGON Z ((-38.56490 -3.72896 0.00000, -38.56...</td>\n",
       "    </tr>\n",
       "    <tr>\n",
       "      <th>3</th>\n",
       "      <td>FORTALEZA</td>\n",
       "      <td>2304400</td>\n",
       "      <td>5</td>\n",
       "      <td>José Bonifácio</td>\n",
       "      <td>77</td>\n",
       "      <td>AIS5</td>\n",
       "      <td>POLYGON Z ((-38.52396 -3.73689 0.00000, -38.52...</td>\n",
       "    </tr>\n",
       "    <tr>\n",
       "      <th>4</th>\n",
       "      <td>FORTALEZA</td>\n",
       "      <td>2304400</td>\n",
       "      <td>10</td>\n",
       "      <td>Joaquim Távora</td>\n",
       "      <td>80</td>\n",
       "      <td>AIS10</td>\n",
       "      <td>POLYGON Z ((-38.45477 -3.73216 0.00000, -38.45...</td>\n",
       "    </tr>\n",
       "  </tbody>\n",
       "</table>\n",
       "</div>"
      ],
      "text/plain": [
       "  NM_MUNICIP CD_GEOCODM  AIS             BAIRROS  CD_BAIRRO NM_AIS  \\\n",
       "0  FORTALEZA    2304400    6  Presidente Kennedy         62   AIS6   \n",
       "1  FORTALEZA    2304400    8      Jardim Iracema         63   AIS8   \n",
       "2  FORTALEZA    2304400    4        Farias Brito         66   AIS4   \n",
       "3  FORTALEZA    2304400    5      José Bonifácio         77   AIS5   \n",
       "4  FORTALEZA    2304400   10      Joaquim Távora         80  AIS10   \n",
       "\n",
       "                                            geometry  \n",
       "0  POLYGON Z ((-38.61706 -3.72012 0.00000, -38.61...  \n",
       "1  POLYGON Z ((-38.57230 -3.71230 0.00000, -38.57...  \n",
       "2  POLYGON Z ((-38.56490 -3.72896 0.00000, -38.56...  \n",
       "3  POLYGON Z ((-38.52396 -3.73689 0.00000, -38.52...  \n",
       "4  POLYGON Z ((-38.45477 -3.73216 0.00000, -38.45...  "
      ]
     },
     "execution_count": 20,
     "metadata": {},
     "output_type": "execute_result"
    }
   ],
   "source": [
    "ais_gdf.head()"
   ]
  },
  {
   "cell_type": "code",
   "execution_count": 21,
   "metadata": {},
   "outputs": [
    {
     "data": {
      "image/png": "[encoded data removed]",
      "text/plain": [
       "<Figure size 1080x576 with 1 Axes>"
      ]
     },
     "metadata": {
      "needs_background": "light"
     },
     "output_type": "display_data"
    }
   ],
   "source": [
    "import matplotlib.pyplot as plt\n",
    "fig, ax = plt.subplots(1,1, figsize=(15,8))\n",
    "\n",
    "ais_gdf.plot(ax=ax)\n",
    "plt.show()"
   ]
  },
  {
   "cell_type": "markdown",
   "metadata": {},
   "source": [
    "Agora vamos mostrar somente as fronteiras das AIS e os nosso eventos de crimes."
   ]
  },
  {
   "cell_type": "markdown",
   "metadata": {},
   "source": [
    "Mas antes bora transformar os nosso dados de roubo em um GeoDataFrame."
   ]
  },
  {
   "cell_type": "code",
   "execution_count": 22,
   "metadata": {},
   "outputs": [
    {
     "data": {
      "text/html": [
       "<div>\n",
       "<style scoped>\n",
       "    .dataframe tbody tr th:only-of-type {\n",
       "        vertical-align: middle;\n",
       "    }\n",
       "\n",
       "    .dataframe tbody tr th {\n",
       "        vertical-align: top;\n",
       "    }\n",
       "\n",
       "    .dataframe thead th {\n",
       "        text-align: right;\n",
       "    }\n",
       "</style>\n",
       "<table border=\"1\" class=\"dataframe\">\n",
       "  <thead>\n",
       "    <tr style=\"text-align: right;\">\n",
       "      <th></th>\n",
       "      <th>natureza</th>\n",
       "      <th>localTipo</th>\n",
       "      <th>logradouro</th>\n",
       "      <th>complEnder</th>\n",
       "      <th>localNumero</th>\n",
       "      <th>municipioOficial</th>\n",
       "      <th>bairroOficial</th>\n",
       "      <th>endereco</th>\n",
       "      <th>geometry</th>\n",
       "    </tr>\n",
       "  </thead>\n",
       "  <tbody>\n",
       "    <tr>\n",
       "      <th>0</th>\n",
       "      <td>ROUBO A PESSOA</td>\n",
       "      <td>ESTACIONAMENTO</td>\n",
       "      <td>R TABELIÃO FABIÃO</td>\n",
       "      <td>SAIDA DO NORTH SHOPPING</td>\n",
       "      <td>2450</td>\n",
       "      <td>Fortaleza</td>\n",
       "      <td>São Gerardo Alagadiço</td>\n",
       "      <td>R TABELIÃO FABIÃO, 2450</td>\n",
       "      <td>POINT (-38.56549 -3.73367)</td>\n",
       "    </tr>\n",
       "    <tr>\n",
       "      <th>1</th>\n",
       "      <td>ROUBO A PESSOA</td>\n",
       "      <td>VIA PUBLICA</td>\n",
       "      <td>AV BEZERRA DE MENEZES</td>\n",
       "      <td>NORTH SHOPPING</td>\n",
       "      <td>2450</td>\n",
       "      <td>Fortaleza</td>\n",
       "      <td>São Gerardo Alagadiço</td>\n",
       "      <td>AV BEZERRA DE MENEZES, 2450</td>\n",
       "      <td>POINT (-38.54764 -3.73231)</td>\n",
       "    </tr>\n",
       "    <tr>\n",
       "      <th>2</th>\n",
       "      <td>ROUBO A PESSOA</td>\n",
       "      <td>VIA PUBLICA</td>\n",
       "      <td>R RUA FRANCISCO FERREIRA BAIMA</td>\n",
       "      <td>MESSEJANA</td>\n",
       "      <td>461</td>\n",
       "      <td>Fortaleza</td>\n",
       "      <td>Messejana</td>\n",
       "      <td>R RUA FRANCISCO FERREIRA BAIMA, 461</td>\n",
       "      <td>POINT (-38.48605 -3.83091)</td>\n",
       "    </tr>\n",
       "    <tr>\n",
       "      <th>3</th>\n",
       "      <td>ROUBO A PESSOA</td>\n",
       "      <td>VIA PUBLICA</td>\n",
       "      <td>AV FREI CIRILO</td>\n",
       "      <td>PIZZARIA FILHO DA PROMESSA</td>\n",
       "      <td>4843</td>\n",
       "      <td>Fortaleza</td>\n",
       "      <td>Messejana</td>\n",
       "      <td>AV FREI CIRILO, 4843</td>\n",
       "      <td>POINT (-38.49779 -3.81658)</td>\n",
       "    </tr>\n",
       "    <tr>\n",
       "      <th>4</th>\n",
       "      <td>ROUBO (OUTROS)</td>\n",
       "      <td>ESTACIONAMENTO</td>\n",
       "      <td>AV WASHINGTON SOARES</td>\n",
       "      <td>EXPRESS CAR WASH</td>\n",
       "      <td>1500</td>\n",
       "      <td>Fortaleza</td>\n",
       "      <td>Eng. Luciano Cavalcante</td>\n",
       "      <td>AV WASHINGTON SOARES, 1500</td>\n",
       "      <td>POINT (-38.48035 -3.79197)</td>\n",
       "    </tr>\n",
       "  </tbody>\n",
       "</table>\n",
       "</div>"
      ],
      "text/plain": [
       "         natureza       localTipo                      logradouro  \\\n",
       "0  ROUBO A PESSOA  ESTACIONAMENTO               R TABELIÃO FABIÃO   \n",
       "1  ROUBO A PESSOA     VIA PUBLICA           AV BEZERRA DE MENEZES   \n",
       "2  ROUBO A PESSOA     VIA PUBLICA  R RUA FRANCISCO FERREIRA BAIMA   \n",
       "3  ROUBO A PESSOA     VIA PUBLICA                  AV FREI CIRILO   \n",
       "4  ROUBO (OUTROS)  ESTACIONAMENTO            AV WASHINGTON SOARES   \n",
       "\n",
       "                   complEnder  localNumero municipioOficial  \\\n",
       "0     SAIDA DO NORTH SHOPPING         2450        Fortaleza   \n",
       "1              NORTH SHOPPING         2450        Fortaleza   \n",
       "2                   MESSEJANA          461        Fortaleza   \n",
       "3  PIZZARIA FILHO DA PROMESSA         4843        Fortaleza   \n",
       "4            EXPRESS CAR WASH         1500        Fortaleza   \n",
       "\n",
       "             bairroOficial                             endereco  \\\n",
       "0    São Gerardo Alagadiço              R TABELIÃO FABIÃO, 2450   \n",
       "1    São Gerardo Alagadiço          AV BEZERRA DE MENEZES, 2450   \n",
       "2                Messejana  R RUA FRANCISCO FERREIRA BAIMA, 461   \n",
       "3                Messejana                 AV FREI CIRILO, 4843   \n",
       "4  Eng. Luciano Cavalcante           AV WASHINGTON SOARES, 1500   \n",
       "\n",
       "                     geometry  \n",
       "0  POINT (-38.56549 -3.73367)  \n",
       "1  POINT (-38.54764 -3.73231)  \n",
       "2  POINT (-38.48605 -3.83091)  \n",
       "3  POINT (-38.49779 -3.81658)  \n",
       "4  POINT (-38.48035 -3.79197)  "
      ]
     },
     "execution_count": 22,
     "metadata": {},
     "output_type": "execute_result"
    }
   ],
   "source": [
    "data_gdf = gpd.GeoDataFrame(data)\n",
    "data_gdf.crs = ais_gdf.crs\n",
    "data_gdf.head()"
   ]
  },
  {
   "cell_type": "markdown",
   "metadata": {},
   "source": [
    "Agora sim, vamos mostrar as fronteiras de cada AIS juntamente com os eventos de roubo."
   ]
  },
  {
   "cell_type": "code",
   "execution_count": 23,
   "metadata": {},
   "outputs": [
    {
     "data": {
      "image/png": "[encoded data removed]",
      "text/plain": [
       "<Figure size 1080x576 with 1 Axes>"
      ]
     },
     "metadata": {
      "needs_background": "light"
     },
     "output_type": "display_data"
    }
   ],
   "source": [
    "fig, ax = plt.subplots(1,1, figsize=(15,8))\n",
    "\n",
    "for idx, ais in ais_gdf.iterrows():\n",
    "    ax.plot(*ais['geometry'].exterior.xy, color='black')\n",
    "\n",
    "data_gdf.plot(ax=ax, color='red')\n",
    "plt.show()"
   ]
  },
  {
   "cell_type": "markdown",
   "metadata": {},
   "source": [
    "Relembrando o endereço dos nosso dados, dois roubos aconteceram na avenida bezerra de menezes próximos ao north shopping. Sabendo que a AIS que contém o shopping é a de número 6, vamos selecionar somente os eventos de roubo dentro da AIS 6."
   ]
  },
  {
   "cell_type": "markdown",
   "metadata": {},
   "source": [
    "Primeiro vamos separar somente a geometria da AIS 6. Antes vamos visualizar os dados e verificar qual coluna pode nos ajudar nessa tarefa."
   ]
  },
  {
   "cell_type": "code",
   "execution_count": 24,
   "metadata": {},
   "outputs": [
    {
     "data": {
      "text/html": [
       "<div>\n",
       "<style scoped>\n",
       "    .dataframe tbody tr th:only-of-type {\n",
       "        vertical-align: middle;\n",
       "    }\n",
       "\n",
       "    .dataframe tbody tr th {\n",
       "        vertical-align: top;\n",
       "    }\n",
       "\n",
       "    .dataframe thead th {\n",
       "        text-align: right;\n",
       "    }\n",
       "</style>\n",
       "<table border=\"1\" class=\"dataframe\">\n",
       "  <thead>\n",
       "    <tr style=\"text-align: right;\">\n",
       "      <th></th>\n",
       "      <th>NM_MUNICIP</th>\n",
       "      <th>CD_GEOCODM</th>\n",
       "      <th>AIS</th>\n",
       "      <th>BAIRROS</th>\n",
       "      <th>CD_BAIRRO</th>\n",
       "      <th>NM_AIS</th>\n",
       "      <th>geometry</th>\n",
       "    </tr>\n",
       "  </thead>\n",
       "  <tbody>\n",
       "    <tr>\n",
       "      <th>0</th>\n",
       "      <td>FORTALEZA</td>\n",
       "      <td>2304400</td>\n",
       "      <td>6</td>\n",
       "      <td>Presidente Kennedy</td>\n",
       "      <td>62</td>\n",
       "      <td>AIS6</td>\n",
       "      <td>POLYGON Z ((-38.61706 -3.72012 0.00000, -38.61...</td>\n",
       "    </tr>\n",
       "    <tr>\n",
       "      <th>1</th>\n",
       "      <td>FORTALEZA</td>\n",
       "      <td>2304400</td>\n",
       "      <td>8</td>\n",
       "      <td>Jardim Iracema</td>\n",
       "      <td>63</td>\n",
       "      <td>AIS8</td>\n",
       "      <td>POLYGON Z ((-38.57230 -3.71230 0.00000, -38.57...</td>\n",
       "    </tr>\n",
       "    <tr>\n",
       "      <th>2</th>\n",
       "      <td>FORTALEZA</td>\n",
       "      <td>2304400</td>\n",
       "      <td>4</td>\n",
       "      <td>Farias Brito</td>\n",
       "      <td>66</td>\n",
       "      <td>AIS4</td>\n",
       "      <td>POLYGON Z ((-38.56490 -3.72896 0.00000, -38.56...</td>\n",
       "    </tr>\n",
       "    <tr>\n",
       "      <th>3</th>\n",
       "      <td>FORTALEZA</td>\n",
       "      <td>2304400</td>\n",
       "      <td>5</td>\n",
       "      <td>José Bonifácio</td>\n",
       "      <td>77</td>\n",
       "      <td>AIS5</td>\n",
       "      <td>POLYGON Z ((-38.52396 -3.73689 0.00000, -38.52...</td>\n",
       "    </tr>\n",
       "    <tr>\n",
       "      <th>4</th>\n",
       "      <td>FORTALEZA</td>\n",
       "      <td>2304400</td>\n",
       "      <td>10</td>\n",
       "      <td>Joaquim Távora</td>\n",
       "      <td>80</td>\n",
       "      <td>AIS10</td>\n",
       "      <td>POLYGON Z ((-38.45477 -3.73216 0.00000, -38.45...</td>\n",
       "    </tr>\n",
       "    <tr>\n",
       "      <th>5</th>\n",
       "      <td>FORTALEZA</td>\n",
       "      <td>2304400</td>\n",
       "      <td>1</td>\n",
       "      <td>Praia de Iracema</td>\n",
       "      <td>88</td>\n",
       "      <td>AIS1</td>\n",
       "      <td>POLYGON Z ((-38.46888 -3.70729 0.00000, -38.46...</td>\n",
       "    </tr>\n",
       "    <tr>\n",
       "      <th>6</th>\n",
       "      <td>FORTALEZA</td>\n",
       "      <td>2304400</td>\n",
       "      <td>7</td>\n",
       "      <td>Lagoa Sapiranga (Coité)</td>\n",
       "      <td>112</td>\n",
       "      <td>AIS7</td>\n",
       "      <td>POLYGON Z ((-38.39901 -3.82406 0.00000, -38.39...</td>\n",
       "    </tr>\n",
       "    <tr>\n",
       "      <th>7</th>\n",
       "      <td>FORTALEZA</td>\n",
       "      <td>2304400</td>\n",
       "      <td>3</td>\n",
       "      <td>Jangurussu</td>\n",
       "      <td>114</td>\n",
       "      <td>AIS3</td>\n",
       "      <td>POLYGON Z ((-38.44520 -3.81927 0.00000, -38.44...</td>\n",
       "    </tr>\n",
       "    <tr>\n",
       "      <th>8</th>\n",
       "      <td>FORTALEZA</td>\n",
       "      <td>2304400</td>\n",
       "      <td>9</td>\n",
       "      <td>Parque Santa Rosa (Apolo XI)</td>\n",
       "      <td>117</td>\n",
       "      <td>AIS9</td>\n",
       "      <td>POLYGON Z ((-38.56278 -3.78786 0.00000, -38.56...</td>\n",
       "    </tr>\n",
       "    <tr>\n",
       "      <th>9</th>\n",
       "      <td>FORTALEZA</td>\n",
       "      <td>2304400</td>\n",
       "      <td>2</td>\n",
       "      <td>Genibaú</td>\n",
       "      <td>127</td>\n",
       "      <td>AIS2</td>\n",
       "      <td>POLYGON Z ((-38.59787 -3.75952 0.00000, -38.59...</td>\n",
       "    </tr>\n",
       "  </tbody>\n",
       "</table>\n",
       "</div>"
      ],
      "text/plain": [
       "  NM_MUNICIP CD_GEOCODM  AIS                       BAIRROS  CD_BAIRRO NM_AIS  \\\n",
       "0  FORTALEZA    2304400    6            Presidente Kennedy         62   AIS6   \n",
       "1  FORTALEZA    2304400    8                Jardim Iracema         63   AIS8   \n",
       "2  FORTALEZA    2304400    4                  Farias Brito         66   AIS4   \n",
       "3  FORTALEZA    2304400    5                José Bonifácio         77   AIS5   \n",
       "4  FORTALEZA    2304400   10                Joaquim Távora         80  AIS10   \n",
       "5  FORTALEZA    2304400    1              Praia de Iracema         88   AIS1   \n",
       "6  FORTALEZA    2304400    7       Lagoa Sapiranga (Coité)        112   AIS7   \n",
       "7  FORTALEZA    2304400    3                    Jangurussu        114   AIS3   \n",
       "8  FORTALEZA    2304400    9  Parque Santa Rosa (Apolo XI)        117   AIS9   \n",
       "9  FORTALEZA    2304400    2                       Genibaú        127   AIS2   \n",
       "\n",
       "                                            geometry  \n",
       "0  POLYGON Z ((-38.61706 -3.72012 0.00000, -38.61...  \n",
       "1  POLYGON Z ((-38.57230 -3.71230 0.00000, -38.57...  \n",
       "2  POLYGON Z ((-38.56490 -3.72896 0.00000, -38.56...  \n",
       "3  POLYGON Z ((-38.52396 -3.73689 0.00000, -38.52...  \n",
       "4  POLYGON Z ((-38.45477 -3.73216 0.00000, -38.45...  \n",
       "5  POLYGON Z ((-38.46888 -3.70729 0.00000, -38.46...  \n",
       "6  POLYGON Z ((-38.39901 -3.82406 0.00000, -38.39...  \n",
       "7  POLYGON Z ((-38.44520 -3.81927 0.00000, -38.44...  \n",
       "8  POLYGON Z ((-38.56278 -3.78786 0.00000, -38.56...  \n",
       "9  POLYGON Z ((-38.59787 -3.75952 0.00000, -38.59...  "
      ]
     },
     "execution_count": 24,
     "metadata": {},
     "output_type": "execute_result"
    }
   ],
   "source": [
    "ais_gdf"
   ]
  },
  {
   "cell_type": "markdown",
   "metadata": {},
   "source": [
    "Existem duas colunas que podem nos ajudar a filtrar a AIS desejada, a coluna `AIS` e a coluna `NM_AIS`. Vamos utilizar a primeira por ser necessário utilizar apenas o número."
   ]
  },
  {
   "cell_type": "code",
   "execution_count": 34,
   "metadata": {},
   "outputs": [
    {
     "data": {
      "image/png": "[encoded data removed]",
      "text/plain": [
       "<Figure size 432x288 with 1 Axes>"
      ]
     },
     "metadata": {
      "needs_background": "light"
     },
     "output_type": "display_data"
    }
   ],
   "source": [
    "ais6 = ais_gdf[ais_gdf['AIS'] == 6]\n",
    "ais6.plot()\n",
    "plt.show()"
   ]
  },
  {
   "cell_type": "code",
   "execution_count": 39,
   "metadata": {},
   "outputs": [
    {
     "data": {
      "image/svg+xml": [
       "<svg xmlns=\"http://www.w3.org/2000/svg\" xmlns:xlink=\"http://www.w3.org/1999/xlink\" width=\"100.0\" height=\"100.0\" viewBox=\"-38.62114238790271 -3.7968956272828844 0.08111559612832053 0.07980054713475493\" preserveAspectRatio=\"xMinYMin meet\"><g transform=\"matrix(1,0,0,-1,0,-7.513990707431014)\"><path fill-rule=\"evenodd\" fill=\"#66cc99\" stroke=\"#555555\" stroke-width=\"0.0016223119225664106\" opacity=\"0.6\" d=\"M -38.61705728640338,-3.720121650480438 L -38.61705803940654,-3.720125254460546 L -38.617015644609815,-3.720124832183004 L -38.6160550779298,-3.7201152644463944 L -38.61084623022115,-3.7213022762293306 L -38.60587606288244,-3.722312257764075 L -38.60587113931759,-3.722313759450235 L -38.605804062788486,-3.722334217776575 L -38.60568310261269,-3.7224822680281555 L -38.60563414251495,-3.722526278100867 L -38.60555206240214,-3.722564258132707 L -38.605261901963594,-3.722686208325681 L -38.60496418153218,-3.7227742284447674 L -38.604541900929185,-3.722898248659511 L -38.60424922048374,-3.7229922087895915 L -38.60390901998607,-3.723092198925164 L -38.60324301898198,-3.7232872292412904 L -38.60247117784531,-3.723513219579426 L -38.60188005697775,-3.723689259827318 L -38.6017421767558,-3.723726249884473 L -38.60094297560524,-3.7239562002581326 L -38.600045134267404,-3.724214230628777 L -38.5997121337625,-3.724310260797063 L -38.59900005271599,-3.7245222111110357 L -38.598272131631006,-3.7247382114307985 L -38.59767201074503,-3.7248882416598215 L -38.597597268444254,-3.724913416375483 L -38.597585970626234,-3.7249172216952697 L -38.59693400966248,-3.725118282009245 L -38.59607720840825,-3.7253602023805534 L -38.59558220766482,-3.725510232595993 L -38.59357196469711,-3.726105223487001 L -38.59356690744128,-3.726106700224665 L -38.592404122961284,-3.7264462340132605 L -38.59156316172795,-3.726690224360809 L -38.5906131203288,-3.726962204796897 L -38.589933079310185,-3.7271572350671414 L -38.58968503892913,-3.727230225201066 L -38.58946111860798,-3.72729322527622 L -38.588733197518486,-3.727516245612227 L -38.58864715740346,-3.7275412656483304 L -38.5880279564767,-3.7277222559371475 L -38.58784795623024,-3.727775266025816 L -38.5873601555173,-3.7279182762393934 L -38.586996194961955,-3.7280272663886924 L -38.58665887447217,-3.728128246555258 L -38.586655988628166,-3.728129104571693 L -38.58591907336465,-3.728348206877151 L -38.585218152345384,-3.728581217229549 L -38.585034912064444,-3.728678237397416 L -38.584954991957574,-3.7287052374184966 L -38.58479803170539,-3.729983239363158 L -38.58462199144085,-3.7315322317093007 L -38.58461119143578,-3.731593251780948 L -38.584567991382094,-3.731499291649684 L -38.58410611070572,-3.731273211320439 L -38.58346890975146,-3.730999250885296 L -38.5823511081086,-3.730513250140915 L -38.5817711472242,-3.730280239807392 L -38.58117714637196,-3.7300362494488724 L -38.580863945889746,-3.729903229247576 L -38.58059718548918,-3.7297902790610875 L -38.58007806472358,-3.72956221870318 L -38.5789829431285,-3.7290562379376597 L -38.578802942862715,-3.7289662378116515 L -38.5782399020289,-3.72867220736847 L -38.577216060502046,-3.7282372367053145 L -38.57658209955772,-3.727965256291072 L -38.57589593855166,-3.727666275846537 L -38.575690018231725,-3.727576275729261 L -38.5751399374159,-3.727335255361575 L -38.574796856938505,-3.7271812651180403 L -38.57378813543509,-3.7267282044165375 L -38.57345189494625,-3.726582224199356 L -38.57316209449628,-3.7264562240247545 L -38.57251985355325,-3.7261802836008195 L -38.57233193328176,-3.7261002734974316 L -38.57229089323121,-3.7260792134464 L -38.571915052670946,-3.7258932731743735 L -38.57161985222399,-3.7257162429169433 L -38.57147801202225,-3.7256172427418273 L -38.571361011846854,-3.7255172526034546 L -38.571220971640635,-3.7253412123417955 L -38.57109404739547,-3.725141659241276 L -38.5709131711688,-3.724857281612756 L -38.570638130778235,-3.724401250918786 L -38.57063550625357,-3.72439758212575 L -38.57035697036533,-3.724008220321274 L -38.57012009002271,-3.7235982696946155 L -38.569734889451794,-3.722930198710233 L -38.56929388877051,-3.722086267400373 L -38.56913188853802,-3.721804206996482 L -38.568972048327645,-3.721670196791683 L -38.56884892812938,-3.721566246626661 L -38.56868512789468,-3.721458246475421 L -38.56850692761241,-3.7213412463020275 L -38.56842484749316,-3.7212942662081354 L -38.568145127103264,-3.721168266041278 L -38.56773004646405,-3.721039205836488 L -38.56714396559218,-3.7209022256187176 L -38.567020845439544,-3.720934265680701 L -38.567064045492735,-3.7212152461156505 L -38.566927965293516,-3.721485246495135 L -38.56675804503016,-3.722018227327339 L -38.56639408450467,-3.7230492688814554 L -38.56602904394617,-3.7241322405081556 L -38.565631963365476,-3.725189202123828 L -38.56528996287294,-3.7261122434885574 L -38.565238842793434,-3.726289273783844 L -38.565199962730766,-3.7264342639977253 L -38.56518088271079,-3.7265652141760763 L -38.56509484258368,-3.7271822551362273 L -38.564946162342515,-3.7285762672177176 L -38.564883162255036,-3.7290772079967516 L -38.56475608208727,-3.7299332892911914 L -38.56470208197877,-3.7310182409064203 L -38.564620756722846,-3.731825324861438 L -38.56461784188364,-3.7318542521686084 L -38.56454584176371,-3.733240254283064 L -38.56450984169415,-3.733476234640756 L -38.56444288160296,-3.734294245876082 L -38.56443892162301,-3.734335285923142 L -38.56440904156333,-3.734562266277639 L -38.56437088149471,-3.7348582767038163 L -38.56423192129653,-3.7355032176792666 L -38.56407604105883,-3.7356462278959954 L -38.56319295977058,-3.735461277633623 L -38.56303095951584,-3.73542725756753 L -38.5619171178653,-3.7351882172221558 L -38.56164099747685,-3.735134217153351 L -38.56084287629885,-3.734976266895803 L -38.56011711521483,-3.7348332566737943 L -38.559747034668305,-3.7347602665834736 L -38.55866703306743,-3.734545256244921 L -38.557548151420114,-3.734322235914821 L -38.55713307080295,-3.734231245773344 L -38.55694083053179,-3.7341892157086605 L -38.55657290996514,-3.7341082155809504 L -38.55608690924745,-3.7340132654525906 L -38.55592094899568,-3.733980235398556 L -38.5557348287184,-3.733944235321378 L -38.55540902824957,-3.733880245254267 L -38.554339826667125,-3.7336642449023936 L -38.553684985710824,-3.7335322147265035 L -38.55320906500997,-3.7334292545678647 L -38.55221402352561,-3.7332192842312595 L -38.55151886251031,-3.733066284018669 L -38.55106706182497,-3.7329752938785 L -38.54998706023819,-3.7327562335457745 L -38.548920018641454,-3.7325292531873027 L -38.54823889764542,-3.732384262984405 L -38.54754589663771,-3.732236212754409 L -38.54666497530945,-3.732054232494913 L -38.54610301449753,-3.731936242292753 L -38.545017972884196,-3.731724291998091 L -38.54490385270972,-3.73199726237868 L -38.54481385257857,-3.732374272978513 L -38.544767052521806,-3.732591263298809 L -38.54473789247828,-3.732817253637947 L -38.54463385233342,-3.733411254545223 L -38.54459209226707,-3.733652274901706 L -38.54445385205732,-3.734752256572167 L -38.5444030919803,-3.7350782370347035 L -38.544251891736934,-3.7359702283966816 L -38.54422093168968,-3.736151218658063 L -38.54401681138757,-3.737264250359737 L -38.5440078113789,-3.737338230459542 L -38.543944811307064,-3.7373272504585975 L -38.54382601113001,-3.7380142214779446 L -38.543822051128814,-3.738071281570248 L -38.5436398908586,-3.738888302827088 L -38.54353513069541,-3.739428303623679 L -38.543413810497874,-3.740178274750867 L -38.543347930420715,-3.7407382556089135 L -38.54316001012532,-3.74067930551101 L -38.54314686785639,-3.740690682256714 L -38.543145659717105,-3.7407019005567514 L -38.54303107311247,-3.741765918997586 L -38.543111608981555,-3.7424459997142963 L -38.54328530758321,-3.742876110493819 L -38.543296810338155,-3.74288124885257 L -38.54333209038199,-3.742897268879734 L -38.543504890636584,-3.7429962690362513 L -38.54359309078878,-3.7430572891270995 L -38.543658970880514,-3.7431062491693052 L -38.5437378110045,-3.743168259285661 L -38.543837891154176,-3.743259249426977 L -38.54394481129725,-3.7433762495827723 L -38.544142091590174,-3.743597289916476 L -38.54457193220822,-3.7442083008522324 L -38.54484589261554,-3.7444683112379806 L -38.545404973451035,-3.745034232090676 L -38.54546581356198,-3.745096242203194 L -38.5454910135804,-3.74512225221882 L -38.5457469739702,-3.7453882926324362 L -38.5462470146945,-3.745912273414385 L -38.547611056725806,-3.747260295450549 L -38.548399097869456,-3.7480402366599677 L -38.54916409901824,-3.74880424780617 L -38.549948900159706,-3.749583288982449 L -38.55065882121678,-3.7502862800254406 L -38.55124814210513,-3.7508722709153255 L -38.55275582433865,-3.752375273187346 L -38.55335050116023,-3.752967709691578 L -38.5533530651974,-3.7529702641024074 L -38.55486290742921,-3.7544742563775735 L -38.55538310819363,-3.7549932871420943 L -38.55544790832181,-3.7550572772359843 L -38.555389948223485,-3.755225307494928 L -38.55532010810563,-3.7553162976251193 L -38.55472790722985,-3.7558813184875626 L -38.554115906351896,-3.75642131932914 L -38.55352982546638,-3.756954300113678 L -38.55513110783839,-3.758719292785989 L -38.5556729086294,-3.7593332737233456 L -38.55646310980378,-3.760202315016156 L -38.557058910701414,-3.759710284271603 L -38.55769215160949,-3.759196293504151 L -38.55852807285286,-3.758500322448143 L -38.55813603228933,-3.7580873118377225 L -38.5582321524248,-3.758024311743561 L -38.558265992484706,-3.757989301672608 L -38.55898707354371,-3.7572742505908274 L -38.55911883373712,-3.7571423103862642 L -38.55987195483976,-3.7563773092443986 L -38.5605840359037,-3.7556463281561605 L -38.560707156088654,-3.755530317958718 L -38.56121295684791,-3.755234307511992 L -38.561783917670525,-3.75484226691926 L -38.56238115855982,-3.754478306381535 L -38.5629819994318,-3.754085275779736 L -38.563588960342315,-3.753698275213003 L -38.56419808125125,-3.753324324620082 L -38.56480288212928,-3.7529172540291156 L -38.56538896299123,-3.75254726347351 L -38.565978003875834,-3.752170282890787 L -38.56660504480673,-3.751762282279864 L -38.56721308571221,-3.7513972417127217 L -38.56797988685092,-3.752576243509101 L -38.568009046873456,-3.752622323569331 L -38.56872508793459,-3.7537972753402546 L -38.569462009029074,-3.755004267159158 L -38.5701758900787,-3.756142318876791 L -38.569595929236904,-3.756494309440374 L -38.5699940898188,-3.757061310297827 L -38.570292890262536,-3.7575682810353195 L -38.57032709030422,-3.7576273211283464 L -38.57058413069636,-3.757994251680475 L -38.57088797113221,-3.7584273323346995 L -38.57132932710616,-3.7591740221800825 L -38.57133185179973,-3.759178293480054 L -38.571884092601096,-3.7600653348120265 L -38.57241185339686,-3.76109025638298 L -38.57161193221844,-3.761516317023992 L -38.570814891039646,-3.76195227768293 L -38.57002612987309,-3.7623873383405346 L -38.56923592870444,-3.762784328940579 L -38.568411167484655,-3.7632372996252124 L -38.5676090862984,-3.763675330287292 L -38.56683688515633,-3.7640643108752356 L -38.56672816499555,-3.7641392809885557 L -38.5673261258797,-3.765052332368792 L -38.56769800642961,-3.765604303203217 L -38.56796512682459,-3.7659883337837354 L -38.56809616701837,-3.7661372840088876 L -38.56822000720148,-3.7662973042507875 L -38.568505127623126,-3.766505294565194 L -38.5688500081331,-3.766743344925096 L -38.569093008492466,-3.7669212751940826 L -38.56923016869529,-3.767051325390657 L -38.569585849221255,-3.7674322959665645 L -38.56968484936761,-3.7675782761872374 L -38.56986063927253,-3.7679827340505954 L -38.57016689008029,-3.769159308577196 L -38.57038613040438,-3.7701553400828933 L -38.57046209051671,-3.770268290253661 L -38.57058593069981,-3.7705042706103535 L -38.57070797088024,-3.7707542909883163 L -38.57071810703546,-3.770768803333854 L -38.57091893119221,-3.7710563314449077 L -38.571019029818416,-3.771156087555304 L -38.571786892475714,-3.771921322752542 L -38.57197517275412,-3.7721523531017804 L -38.572383053357264,-3.772617293804642 L -38.572851054049316,-3.7730973545303934 L -38.573005134277174,-3.773250354761662 L -38.57314085447785,-3.773393274977711 L -38.573217894591785,-3.773500285139477 L -38.57353505506077,-3.773829325636908 L -38.57404517581513,-3.774408296512144 L -38.574787856913375,-3.7751183075854913 L -38.57554205802864,-3.7760462989883727 L -38.57586497850617,-3.7763532894524654 L -38.57622785904694,-3.776786280108643 L -38.57675705980172,-3.7774273510595804 L -38.576839859939625,-3.7775073611772405 L -38.57716098041153,-3.7778233516792934 L -38.577304980629286,-3.7779652818942733 L -38.57755302098134,-3.7782702923559546 L -38.57768802119503,-3.778436342591658 L -38.57793786154825,-3.7787333430512526 L -38.578108141815356,-3.778931343334553 L -38.57851386242548,-3.7793993440525036 L -38.57874894276208,-3.7796853644683144 L -38.57903298316645,-3.780024304986162 L -38.57927418354773,-3.780283325372006 L -38.57940306372811,-3.780431285599189 L -38.579814184338375,-3.78090531631117 L -38.5803250250998,-3.7814832971869334 L -38.58068214563199,-3.7818892878186774 L -38.58088590591747,-3.7821203181610654 L -38.58120306638637,-3.7825063287603795 L -38.58139602669127,-3.782740329116114 L -38.581748107197484,-3.783115359668152 L -38.581903987426735,-3.7833253299912206 L -38.58237090811501,-3.783850300789549 L -38.58292206893285,-3.784485341746604 L -38.5832579494468,-3.784846332294002 L -38.58348798978319,-3.785111292672952 L -38.583729910120475,-3.785425303146677 L -38.584120870715466,-3.785990324026239 L -38.584512191280844,-3.786554354850626 L -38.584795151705926,-3.787144305750347 L -38.585569872864035,-3.787646326525383 L -38.58616252166007,-3.788152143328974 L -38.586163873714995,-3.7881532972762755 L -38.58679999466635,-3.7888953483943 L -38.58705595506349,-3.7891593188161687 L -38.588128036642395,-3.790215380397035 L -38.588687117463216,-3.790799301269186 L -38.5901811196587,-3.7923943736993353 L -38.59093316077764,-3.7931763848680315 L -38.59116716113077,-3.793416325243984 L -38.591432121507815,-3.7936803856554753 L -38.59165100183708,-3.7938913459447985 L -38.59184000210653,-3.793740325735581 L -38.59195304228627,-3.793581385474565 L -38.591964922293734,-3.7934563753054937 L -38.591986882340834,-3.7932173349472746 L -38.591931082250056,-3.7928643544159426 L -38.59187996218604,-3.792665364087383 L -38.59178420203027,-3.7925013838656816 L -38.59169312191714,-3.792427313757471 L -38.59162508179476,-3.7923473036297346 L -38.591603121757146,-3.7922563134704093 L -38.591636961831654,-3.7920513831776343 L -38.5916870018832,-3.7918243128367397 L -38.591738121954386,-3.7916933626242506 L -38.59181192207239,-3.791528302385588 L -38.591856922147116,-3.7914033821845035 L -38.59187420217639,-3.791136351776307 L -38.591879962191655,-3.790880301408882 L -38.59182920209309,-3.790613361008699 L -38.59169888191937,-3.7904433507475814 L -38.59154588169176,-3.7903923206517343 L -38.59136516141658,-3.790318340541969 L -38.5911560011129,-3.7901023402256104 L -38.591042960959065,-3.7900053200860966 L -38.59094720078833,-3.7898063297963236 L -38.59092992078651,-3.7896583695449104 L -38.5909299207762,-3.789488359291224 L -38.59082192063313,-3.7893113290358182 L -38.59071500045041,-3.789152298787868 L -38.59071500046103,-3.789021348610522 L -38.59073192049608,-3.788902368417472 L -38.590663880365426,-3.788817318292968 L -38.59066388038741,-3.788624357999095 L -38.590691960411206,-3.7885213078431055 L -38.59076000053317,-3.788464337741014 L -38.590861880659254,-3.788402327670403 L -38.590901120731345,-3.7882943274926224 L -38.59097996083399,-3.788061317133846 L -38.59104296095318,-3.787799326752512 L -38.59104296093634,-3.787646326515869 L -38.590996880864004,-3.787498366286422 L -38.590941080788284,-3.7873673260990977 L -38.59091804075644,-3.7871343157438804 L -38.590958000809024,-3.7869353254327125 L -38.590964120840205,-3.7867933052353044 L -38.590941080807355,-3.786594314932294 L -38.59096916084245,-3.7864183646609684 L -38.59103720093041,-3.786236294372857 L -38.591122161062835,-3.7861453042362996 L -38.59129712133602,-3.7860373040989126 L -38.59149512161387,-3.785957293947632 L -38.591676201887246,-3.785923363924 L -38.59180112205012,-3.7859233639175587 L -38.59189688219158,-3.785906353892051 L -38.59200416237163,-3.785844343777308 L -38.592072202470334,-3.78573634362031 L -38.592112162515754,-3.7856393234927452 L -38.59211720251927,-3.785565343353775 L -38.5920722024667,-3.785417293156139 L -38.59208300248112,-3.785230362861129 L -38.59216292258322,-3.785053332589973 L -38.59230404280219,-3.784911312393728 L -38.592457043026236,-3.7847863021778947 L -38.59260896326178,-3.7847073720790525 L -38.59280192354733,-3.7846953120534184 L -38.5929599637938,-3.784695312041342 L -38.593134924027936,-3.784673352010351 L -38.59323212417394,-3.7846443719716225 L -38.593316004288866,-3.7845573418498355 L -38.593350204367695,-3.78448930173208 L -38.59337900439705,-3.7843642915414892 L -38.593407084430986,-3.784267361401191 L -38.5934070844361,-3.78416530123788 L -38.593390164420754,-3.7840683711137677 L -38.59335020434141,-3.784000330988629 L -38.59331600430078,-3.783886300841696 L -38.593294044279226,-3.783753370631127 L -38.59330520429101,-3.7833893200674553 L -38.593362084356514,-3.783037329552683 L -38.59341788444481,-3.7827863191680384 L -38.59344092449544,-3.78259335888362 L -38.59350896460178,-3.78228636842191 L -38.59355396465517,-3.782161358232255 L -38.593667004809184,-3.7818653477879884 L -38.59372388491598,-3.7815472873116174 L -38.59376888497486,-3.7812063667830524 L -38.593836925092,-3.780763296118187 L -38.59396112527575,-3.7805243457552624 L -38.59419908559779,-3.780217355273172 L -38.59438016586282,-3.780001354955732 L -38.594482046013475,-3.7797793246161553 L -38.59461200623735,-3.7794783641753953 L -38.59473620641994,-3.7792393238212143 L -38.59484888656908,-3.7790973035978515 L -38.59501916681335,-3.779006313440675 L -38.595239127146115,-3.778887333273915 L -38.59546700748312,-3.778747293054534 L -38.59557896765268,-3.7785203127347975 L -38.595692007815614,-3.778224302256263 L -38.595816207988314,-3.778065362039598 L -38.595838888034336,-3.7779173118013123 L -38.595828088024376,-3.777781321614023 L -38.595715047844706,-3.77765631142864 L -38.595555927631686,-3.777440311086027 L -38.595375207350926,-3.7771783206807914 L -38.59523912715047,-3.7768713302130634 L -38.59514912702167,-3.77668934993817 L -38.595149127017784,-3.7764393295810854 L -38.59530716724326,-3.7759852788964205 L -38.59536404732893,-3.7755643482397474 L -38.59543208744003,-3.7752573577906983 L -38.59557896763941,-3.7750413574743753 L -38.59589612811813,-3.7748363371416884 L -38.59599692825711,-3.774745347021468 L -38.596031128322856,-3.774609356794354 L -38.596031128320114,-3.774438356549265 L -38.595928888154354,-3.7741883361733497 L -38.595918088168546,-3.7739833158466425 L -38.59599692827993,-3.773790355574763 L -38.59621904858524,-3.773635285324636 L -38.59632596875827,-3.7734783250965025 L -38.59635512880683,-3.773331354892971 L -38.59633604876008,-3.773204274687413 L -38.596229128608165,-3.773066304480895 L -38.59616792852142,-3.7729103342325754 L -38.596129048459964,-3.772861284171297 L -38.59608008840357,-3.772664273852164 L -38.596059928348275,-3.772458353544523 L -38.59605092835836,-3.7723112933372325 L -38.59602104832395,-3.772115273036304 L -38.595942928178026,-3.771968302819178 L -38.59586516806005,-3.771860302669067 L -38.5957190078633,-3.771811342591849 L -38.59558688767769,-3.7717732725305844 L -38.59530896726244,-3.771605332275852 L -38.59496300675083,-3.771390321950847 L -38.594552966144406,-3.771174321624247 L -38.594329045813275,-3.770978301327982 L -38.594230045666926,-3.770822331092209 L -38.59418216559614,-3.770552330684046 L -38.594105125482194,-3.7703422703665215 L -38.59410512548221,-3.7701982701488275 L -38.594105125482244,-3.7700542699311494 L -38.59413392552486,-3.769916299722601 L -38.59415804556054,-3.76977931951554 L -38.59415192555149,-3.769653319325027 L -38.59414004553395,-3.769527319134598 L -38.59409288546423,-3.769365318889715 L -38.59404500539343,-3.769209348653932 L -38.594027005366826,-3.769071288445181 L -38.59405688541102,-3.768987318318245 L -38.59410800548665,-3.768828288077917 L -38.5941130454941,-3.7687083178965266 L -38.594108005486625,-3.7686183177604944 L -38.59406588542437,-3.7685402876425376 L -38.59400612533598,-3.7684862875608824 L -38.59398200530033,-3.7683903474159064 L -38.59397588529131,-3.768306287288822 L -38.59393988523806,-3.768228347171 L -38.59391720520454,-3.768126287016722 L -38.593929085222115,-3.768018286853446 L -38.59397012528282,-3.7679343167265165 L -38.59404788539783,-3.7677842864997464 L -38.5942149256449,-3.7674313059661766 L -38.59430420577697,-3.767239335675995 L -38.5943402058302,-3.7671133354855026 L -38.594363965865384,-3.76696933526783 L -38.59435820585689,-3.76648333453315 L -38.594399965918704,-3.7662133341250406 L -38.594412205936806,-3.76609327394354 L -38.59446620601667,-3.765949273725889 L -38.594560886156735,-3.7657512734265524 L -38.59462388624989,-3.7656643332951663 L -38.59472504639951,-3.7656223032316403 L -38.59490396666412,-3.765562273140877 L -38.59495220673545,-3.7655203330775073 L -38.59502312684035,-3.7653822728687665 L -38.59505912689362,-3.765196332587725 L -38.59508900693781,-3.7651243324789014 L -38.595100886955386,-3.7650353223443513 L -38.59510088695538,-3.7649872622716996 L -38.59506488690217,-3.764945322208324 L -38.59502888684895,-3.7648612620812254 L -38.595011966823904,-3.7647892619724286 L -38.59500908681968,-3.76467226179557 L -38.59499108679306,-3.764528261577857 L -38.59494896673077,-3.764444291450963 L -38.594921966690855,-3.764387321364819 L -38.59485608659343,-3.764351321310404 L -38.59479092649708,-3.7642852612105178 L -38.594761046452895,-3.764219291110837 L -38.59473116640873,-3.764051260856799 L -38.59470092636402,-3.763937320684576 L -38.59473116640874,-3.763799260475859 L -38.594761046452966,-3.763643290240129 L -38.59482116654187,-3.7634032598772973 L -38.59487408662017,-3.763211289587093 L -38.594898206655856,-3.7629772892333895 L -38.59495220673574,-3.762677318779943 L -38.59502888684918,-3.762558338600101 L -38.595125006991346,-3.762360338300833 L -38.595274047211774,-3.762132277956057 L -38.59533416730069,-3.7620242777927904 L -38.595370167353934,-3.7618982776023424 L -38.59535900732873,-3.761768317409358 L -38.5953550473324,-3.7617082873081924 L -38.59537988736433,-3.7615392670582506 L -38.595440007452645,-3.761390316840348 L -38.59553504758022,-3.7612402866053056 L -38.59574996790087,-3.7610542563100515 L -38.596030048310936,-3.7608683160321856 L -38.59622120861745,-3.760766255875966 L -38.59629320871973,-3.76068228576437 L -38.59637600882057,-3.76048428544843 L -38.5965138890236,-3.760166314973795 L -38.59663916922471,-3.7598963145679307 L -38.59672304935388,-3.759794254412834 L -38.59688612959416,-3.759633334171918 L -38.59702220980276,-3.759554314058455 L -38.597188170039416,-3.759515253977416 L -38.597403090360736,-3.759515253983898 L -38.59763709068891,-3.759515253997623 L -38.597754090865145,-3.7595353240141822 L -38.597871091058146,-3.7595152539829404 L -38.597958931174475,-3.75945630389178 L -38.597988091209935,-3.7593582937667325 L -38.597979091210384,-3.759260283605431 L -38.59789305107675,-3.7588812930465334 L -38.59777821090636,-3.75869931277484 L -38.59774905085331,-3.75858330259448 L -38.5977490508517,-3.7584453323908225 L -38.59784301100698,-3.7582632621073273 L -38.59801617126077,-3.7580382617592174 L -38.59816809150069,-3.7578713115131346 L -38.59837797179257,-3.757617331110516 L -38.59850793200123,-3.7574133008309176 L -38.59858713209975,-3.7572243005359587 L -38.59862421215825,-3.75705033025911 L -38.598667052238135,-3.756715259767942 L -38.59869693225441,-3.7565123094665664 L -38.598739052336356,-3.7562362790302464 L -38.59879701240378,-3.7558942785226295 L -38.598898172548374,-3.755647318157641 L -38.5990652128003,-3.7553783077552354 L -38.59920921302826,-3.7551963274758076 L -38.59931217318462,-3.754950267102831 L -38.599299213141315,-3.754676306694323 L -38.599268973100095,-3.7542932661083697 L -38.59933413319836,-3.7536342850852775 L -38.59942989335662,-3.7534722848532205 L -38.59955517352867,-3.753304254614926 L -38.599680093733866,-3.7531122843087754 L -38.599763973842066,-3.752944254057128 L -38.59978809389082,-3.752789273812707 L -38.59979097387742,-3.752645273605072 L -38.59979889388649,-3.752555273468651 L -38.5997402137979,-3.7524232432782854 L -38.59959693360849,-3.752249273005627 L -38.59948317342622,-3.75208124274692 L -38.59937589327692,-3.7518483223971395 L -38.59928697312506,-3.751590292002927 L -38.599284093117475,-3.751344321638467 L -38.5992959731365,-3.7512062614257715 L -38.599284093148924,-3.750865250917641 L -38.599337013219674,-3.7506012805289646 L -38.59938489328821,-3.750367280177743 L -38.59941513331995,-3.7501642398403554 L -38.599438893365104,-3.74996029956394 L -38.59947417342141,-3.7498222393548226 L -38.59958793358323,-3.7496782391209766 L -38.59968297370972,-3.74948626882823 L -38.59970709375383,-3.7493302986006194 L -38.599718973767345,-3.7491872883702873 L -38.599689093732174,-3.7490432881634392 L -38.59961817362564,-3.748959318032678 L -38.59947993341537,-3.7488693179135075 L -38.59929021313248,-3.748736297690403 L -38.59906305281537,-3.7486232575360696 L -38.59886001251155,-3.7483782771539986 L -38.59875309234454,-3.748162276822138 L -38.59872321232215,-3.747946276508881 L -38.59871097230157,-3.7476702460981652 L -38.598664172203094,-3.74738926567224 L -38.598604052138256,-3.747179295353703 L -38.598615932142174,-3.746891294896808 L -38.59857993209273,-3.7467052646446533 L -38.59850289198814,-3.746574314427951 L -38.59839417181211,-3.746527244375964 L -38.59810221139615,-3.746335274062508 L -38.597893051076376,-3.7462212438931983 L -38.5978271709715,-3.746138263766132 L -38.597737890836136,-3.745808233281642 L -38.59753521053967,-3.745107312225847 L -38.59748697048087,-3.7448612518424564 L -38.59751721053907,-3.7446812515567434 L -38.59760721067127,-3.744525281318919 L -38.597706210803864,-3.7443932511224416 L -38.59781889096048,-3.744297310977485 L -38.597921131103675,-3.744105250693441 L -38.597962171191966,-3.7439553104647434 L -38.59803417127016,-3.7437452501585016 L -38.59803417130163,-3.7435422998423995 L -38.59803417127702,-3.743374269603837 L -38.5980932113681,-3.743146299235416 L -38.59830813170427,-3.7428942988769243 L -38.59878513239654,-3.7424032581387676 L -38.59890855965304,-3.7421944045171784 L -38.598932150711406,-3.742187948687249 L -38.59937052922366,-3.7417668178527332 L -38.59945501585167,-3.741676717367579 L -38.59949118351961,-3.741646437281167 L -38.59966811204388,-3.741547189256673 L -38.59991793388215,-3.741497602180399 L -38.60007855289851,-3.741498949640566 L -38.600217881798045,-3.7415665928892534 L -38.60025965354694,-3.741598662788246 L -38.60034643091151,-3.7416698094603484 L -38.600494114185125,-3.7417522749381056 L -38.60066389599509,-3.7417786854400235 L -38.60074043258246,-3.741744729095727 L -38.6008266709725,-3.7416997234300795 L -38.601015586968465,-3.741595967842478 L -38.601127696874364,-3.7414148672008913 L -38.60118213487447,-3.7412553261630306 L -38.60119237568963,-3.7412052001166645 L -38.60121016233495,-3.7410957851487936 L -38.60121858438047,-3.741058470908536 L -38.601219480087856,-3.7410545023466084 L -38.601227411164565,-3.7410193633134567 L -38.6012295659772,-3.741009816238768 L -38.60123015132321,-3.741008076802711 L -38.60127699709035,-3.7408688703646225 L -38.601315747327746,-3.7407560466649437 L -38.60134598781603,-3.740674833944077 L -38.601430270979826,-3.7404907450306446 L -38.601475186798346,-3.7403974099029056 L -38.601522258572594,-3.7402920373919213 L -38.60154839961629,-3.74020139721019 L -38.601647394089035,-3.739829044989394 L -38.60166958250353,-3.739701394195932 L -38.60170391828208,-3.7395071825331376 L -38.601704044337666,-3.739506469398842 L -38.601704077883504,-3.7395062798140635 L -38.60172132554017,-3.73917740610325 L -38.601736596929925,-3.7389008143847184 L -38.601726535775136,-3.7385766119132646 L -38.601722673029364,-3.7384753716457655 L -38.60172141538998,-3.738433330411704 L -38.601707581289304,-3.738126195956577 L -38.601676941361774,-3.737785024014819 L -38.601688177679286,-3.737605531613498 L -38.60169141160551,-3.737545524070731 L -38.60170812028474,-3.7374413193368796 L -38.6018085520769,-3.737301720922511 L -38.601905570286114,-3.737253391506491 L -38.601965847328245,-3.7372232080475865 L -38.60200577752038,-3.73720290611177 L -38.60204552802479,-3.737182110075954 L -38.60217555934067,-3.7371134786816027 L -38.602200383392294,-3.737100239183963 L -38.60220187915448,-3.73709944146596 L -38.60220250883151,-3.7370991056210205 L -38.60224850265459,-3.7370667662361052 L -38.60228335734319,-3.7370103519245883 L -38.602290543861095,-3.7369431578625862 L -38.60228479464277,-3.7368608720475756 L -38.60224023812517,-3.736768165781117 L -38.60216046761871,-3.736677615451605 L -38.60207566653393,-3.736582393883305 L -38.60202356417874,-3.7365247219594306 L -38.60196643122001,-3.736463636427326 L -38.601835276998465,-3.7363245770161124 L -38.60166567482097,-3.736032264770356 L -38.601637108369495,-3.7359801624045943 L -38.60159237221159,-3.7358870968148885 L -38.60155841584425,-3.735818824738191 L -38.60153038834425,-3.735735640623846 L -38.60146732651203,-3.7355518450448497 L -38.601397796814204,-3.735344333876095 L -38.601269876548386,-3.7350541776147974 L -38.601198011200644,-3.734788994540679 L -38.60115291572141,-3.734608432887699 L -38.60114321388112,-3.7345565102074585 L -38.601143213889245,-3.734473685406262 L -38.60115758696672,-3.7344122405413644 L -38.60121058765375,-3.734334805657455 L -38.60123835061059,-3.734312082854283 L -38.60132934511099,-3.734237607790414 L -38.601523201819326,-3.7341447218499164 L -38.601858082810956,-3.733984162467316 L -38.601859873895926,-3.7339833037311654 L -38.60189043363416,-3.7339686517758226 L -38.60210351435984,-3.733871094615479 L -38.60218274588975,-3.7337959953338644 L -38.60226269604165,-3.733640586535456 L -38.602347856457556,-3.7335018864715135 L -38.602550157374914,-3.733326894379556 L -38.602816957408244,-3.7331035728508444 L -38.60304333320719,-3.732872166481937 L -38.60308088282083,-3.7328294066122165 L -38.603348221843724,-3.7326087800502954 L -38.603543875191995,-3.732397316321963 L -38.60370880614595,-3.7321768694244355 L -38.60373503696934,-3.7321409367352203 L -38.60379738015124,-3.7320122978207495 L -38.60387194043574,-3.731861200944505 L -38.60396105345201,-3.7316854902225125 L -38.60400543029346,-3.73160266542613 L -38.604186890238566,-3.7312846613323365 L -38.604491239901776,-3.7307591461056138 L -38.604616105916364,-3.7305550485588275 L -38.60464521138256,-3.730469169488823 L -38.60463766552355,-3.730179192855311 L -38.604713483432036,-3.7297990252743713 L -38.60475947723864,-3.729532764202439 L -38.604777443594585,-3.7294077185487557 L -38.60484391902603,-3.7292578793201785 L -38.60507029479324,-3.729027191615712 L -38.60559455238393,-3.728375732381201 L -38.60566066846702,-3.728235594988194 L -38.60571977755597,-3.728102276870972 L -38.60572223750699,-3.7280967285983624 L -38.605825240086,-3.727864410533467 L -38.605903573290895,-3.727682231939037 L -38.6059064478957,-3.727409862321025 L -38.60598406243865,-3.7272079207566877 L -38.60609976562145,-3.727023226849864 L -38.606159413845944,-3.727011728389611 L -38.60625930667784,-3.7269937620636986 L -38.606530957605685,-3.7269930433928016 L -38.606592761776234,-3.7269700464794617 L -38.60682129353477,-3.72688452673555 L -38.60713606368321,-3.726692646322789 L -38.607381124466144,-3.726569037935699 L -38.60773613917518,-3.726306010821264 L -38.6080688756424,-3.726120598272858 L -38.608329028146045,-3.7258791307590085 L -38.608429280288924,-3.725785346504211 L -38.608607506287115,-3.725665690720973 L -38.6087329112963,-3.725499681824323 L -38.608760579434424,-3.725265041523437 L -38.60876237607343,-3.7250577100091684 L -38.60886765877032,-3.724889185825385 L -38.60899486040351,-3.7248748127464073 L -38.60914002837157,-3.72481732047852 L -38.60934053265828,-3.724636938519535 L -38.60943395757264,-3.724429966351734 L -38.609410242024914,-3.7242912662722993 L -38.609450486586645,-3.7241101656181472 L -38.60954247422934,-3.724080700831304 L -38.60996216773096,-3.724082138154543 L -38.610123794495536,-3.723961201641261 L -38.61027981250806,-3.723801863357894 L -38.61035598974792,-3.7236574140374072 L -38.61045875717384,-3.72361142021962 L -38.61057517898779,-3.7235711756362995 L -38.61080011748891,-3.7235812367923935 L -38.611012120215165,-3.723610701592747 L -38.61118567495833,-3.72360962359355 L -38.611412410066805,-3.7235108087750755 L -38.61158057495094,-3.7233512677443885 L -38.611709213879045,-3.7232377205262455 L -38.61240343298451,-3.72298906646235 L -38.612539258446986,-3.7229610389925596 L -38.61286480839574,-3.7228209015711133 L -38.61309190283339,-3.722635489018031 L -38.61321335523376,-3.722505412776067 L -38.61342679525224,-3.722409113241227 L -38.61360142799637,-3.7223882722860284 L -38.613883140080425,-3.722437859364481 L -38.61412820086039,-3.722541345456359 L -38.61448824617566,-3.722730351275712 L -38.614671616959974,-3.7227691413546355 L -38.6148227792576,-3.722768799222278 L -38.61500567654587,-3.722693699960778 L -38.615071073994564,-3.722561467740122 L -38.61510916261026,-3.722324312133879 L -38.61511275585681,-3.7219348020662286 L -38.615197556948594,-3.72172854855998 L -38.615336975709035,-3.721578349997095 L -38.61581775476564,-3.721147337695515 L -38.616020953968295,-3.7209753998908277 L -38.61629547953623,-3.720822326708171 L -38.616578628916635,-3.720781363472584 L -38.61678128913297,-3.7207964551868926 L -38.616937955574244,-3.7209387485751027 L -38.61709749658106,-3.721120567858288 L -38.61713342926518,-3.721275078318054 L -38.61713486656811,-3.7214231208768367 L -38.61704431626969,-3.7216322490114413 L -38.61704431624268,-3.7218334719496964 L -38.61712049350892,-3.7220116979431146 L -38.61724122724055,-3.7221345876598164 L -38.61742592113516,-3.7221525540207026 L -38.6175825875729,-3.722103685592689 L -38.61775506436169,-3.721929052817539 L -38.61791676134175,-3.721584099240955 L -38.61797018068519,-3.7214044905347734 L -38.61810217387951,-3.720960308142823 L -38.61813810656462,-3.720498932726705 L -38.617941195557165,-3.7202495600390435 L -38.61768104307121,-3.7201374501265114 L -38.61744676210951,-3.7200993614862155 L -38.617212481111046,-3.7201101412999527 L -38.61705929150832,-3.720117906657606 L -38.617056533365904,-3.7201180464657546 L -38.61705728640338,-3.720121650480438 z\" /></g></svg>"
      ],
      "text/plain": [
       "<shapely.geometry.polygon.Polygon at 0x7f7e3365d450>"
      ]
     },
     "execution_count": 39,
     "metadata": {},
     "output_type": "execute_result"
    }
   ],
   "source": [
    "ais6_geometry = ais6.iloc[0].geometry\n",
    "ais6_geometry"
   ]
  },
  {
   "cell_type": "code",
   "execution_count": 26,
   "metadata": {},
   "outputs": [
    {
     "data": {
      "text/plain": [
       "geopandas.geodataframe.GeoDataFrame"
      ]
     },
     "execution_count": 26,
     "metadata": {},
     "output_type": "execute_result"
    }
   ],
   "source": [
    "type(ais6)"
   ]
  },
  {
   "cell_type": "markdown",
   "metadata": {},
   "source": [
    "Agora podemos utilizar a função `within()` para selecionar apenas os eventos que aconteceram dentro da AIS 6."
   ]
  },
  {
   "cell_type": "code",
   "execution_count": 27,
   "metadata": {},
   "outputs": [
    {
     "data": {
      "text/plain": [
       "0     True\n",
       "1     True\n",
       "2    False\n",
       "3    False\n",
       "4    False\n",
       "dtype: bool"
      ]
     },
     "execution_count": 27,
     "metadata": {},
     "output_type": "execute_result"
    }
   ],
   "source": [
    "mask = data_gdf.within(ais6.geometry[0])\n",
    "mask"
   ]
  },
  {
   "cell_type": "code",
   "execution_count": 28,
   "metadata": {},
   "outputs": [
    {
     "data": {
      "text/html": [
       "<div>\n",
       "<style scoped>\n",
       "    .dataframe tbody tr th:only-of-type {\n",
       "        vertical-align: middle;\n",
       "    }\n",
       "\n",
       "    .dataframe tbody tr th {\n",
       "        vertical-align: top;\n",
       "    }\n",
       "\n",
       "    .dataframe thead th {\n",
       "        text-align: right;\n",
       "    }\n",
       "</style>\n",
       "<table border=\"1\" class=\"dataframe\">\n",
       "  <thead>\n",
       "    <tr style=\"text-align: right;\">\n",
       "      <th></th>\n",
       "      <th>natureza</th>\n",
       "      <th>localTipo</th>\n",
       "      <th>logradouro</th>\n",
       "      <th>complEnder</th>\n",
       "      <th>localNumero</th>\n",
       "      <th>municipioOficial</th>\n",
       "      <th>bairroOficial</th>\n",
       "      <th>endereco</th>\n",
       "      <th>geometry</th>\n",
       "    </tr>\n",
       "  </thead>\n",
       "  <tbody>\n",
       "    <tr>\n",
       "      <th>0</th>\n",
       "      <td>ROUBO A PESSOA</td>\n",
       "      <td>ESTACIONAMENTO</td>\n",
       "      <td>R TABELIÃO FABIÃO</td>\n",
       "      <td>SAIDA DO NORTH SHOPPING</td>\n",
       "      <td>2450</td>\n",
       "      <td>Fortaleza</td>\n",
       "      <td>São Gerardo Alagadiço</td>\n",
       "      <td>R TABELIÃO FABIÃO, 2450</td>\n",
       "      <td>POINT (-38.56549 -3.73367)</td>\n",
       "    </tr>\n",
       "    <tr>\n",
       "      <th>1</th>\n",
       "      <td>ROUBO A PESSOA</td>\n",
       "      <td>VIA PUBLICA</td>\n",
       "      <td>AV BEZERRA DE MENEZES</td>\n",
       "      <td>NORTH SHOPPING</td>\n",
       "      <td>2450</td>\n",
       "      <td>Fortaleza</td>\n",
       "      <td>São Gerardo Alagadiço</td>\n",
       "      <td>AV BEZERRA DE MENEZES, 2450</td>\n",
       "      <td>POINT (-38.54764 -3.73231)</td>\n",
       "    </tr>\n",
       "  </tbody>\n",
       "</table>\n",
       "</div>"
      ],
      "text/plain": [
       "         natureza       localTipo             logradouro  \\\n",
       "0  ROUBO A PESSOA  ESTACIONAMENTO      R TABELIÃO FABIÃO   \n",
       "1  ROUBO A PESSOA     VIA PUBLICA  AV BEZERRA DE MENEZES   \n",
       "\n",
       "                complEnder  localNumero municipioOficial  \\\n",
       "0  SAIDA DO NORTH SHOPPING         2450        Fortaleza   \n",
       "1           NORTH SHOPPING         2450        Fortaleza   \n",
       "\n",
       "           bairroOficial                     endereco  \\\n",
       "0  São Gerardo Alagadiço      R TABELIÃO FABIÃO, 2450   \n",
       "1  São Gerardo Alagadiço  AV BEZERRA DE MENEZES, 2450   \n",
       "\n",
       "                     geometry  \n",
       "0  POINT (-38.56549 -3.73367)  \n",
       "1  POINT (-38.54764 -3.73231)  "
      ]
     },
     "execution_count": 28,
     "metadata": {},
     "output_type": "execute_result"
    }
   ],
   "source": [
    "data_gdf_ais6 = data_gdf[mask]\n",
    "data_gdf_ais6"
   ]
  },
  {
   "cell_type": "markdown",
   "metadata": {},
   "source": [
    "Vamos ver os nosso dados em um mapa utilizando a o módulo Folium: __conda install -c conda-forge folium__ "
   ]
  },
  {
   "cell_type": "code",
   "execution_count": 51,
   "metadata": {},
   "outputs": [
    {
     "data": {
      "text/html": [
       "<div style=\"width:100%;\"><div style=\"position:relative;width:100%;height:0;padding-bottom:60%;\"><span style=\"color:#565656\">Make this Notebook Trusted to load map: File -> Trust Notebook</span><iframe src=\"about:blank\" style=\"position:absolute;width:100%;height:100%;left:0;top:0;border:none !important;\" data-html=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 onload=\"this.contentDocument.open();this.contentDocument.write(atob(this.getAttribute('data-html')));this.contentDocument.close();\" allowfullscreen webkitallowfullscreen mozallowfullscreen></iframe></div></div>"
      ],
      "text/plain": [
       "<folium.folium.Map at 0x7f7e3084d250>"
      ]
     },
     "execution_count": 51,
     "metadata": {},
     "output_type": "execute_result"
    }
   ],
   "source": [
    "import folium\n",
    "\n",
    "map_fortal = folium.Map(location=[data_gdf_ais6.loc[0, 'geometry'].y, \n",
    "                                  data_gdf_ais6.loc[0, 'geometry'].x], \n",
    "                                  zoom_start = 14)\n",
    "\n",
    "folium.Marker([data_gdf_ais6.loc[0, 'geometry'].y, \n",
    "               data_gdf_ais6.loc[0, 'geometry'].x]).add_to(map_fortal)\n",
    "folium.Marker([data_gdf_ais6.loc[1, 'geometry'].y,\n",
    "               data_gdf_ais6.loc[1, 'geometry'].x]).add_to(map_fortal)\n",
    "\n",
    "border_layer = folium.features.GeoJson(ais6_geometry, \n",
    "                    style_function=lambda feature: {\n",
    "                        'color': 'red',\n",
    "                        'weight' : 2,\n",
    "                        'fillOpacity' : 0.2,\n",
    "                        'opacity': 1,\n",
    "                    }).add_to(map_fortal)\n",
    "\n",
    "map_fortal"
   ]
  }
 ],
 "metadata": {
  "kernelspec": {
   "display_name": "Python 3",
   "language": "python",
   "name": "python3"
  },
  "language_info": {
   "codemirror_mode": {
    "name": "ipython",
    "version": 3
   },
   "file_extension": ".py",
   "mimetype": "text/x-python",
   "name": "python",
   "nbconvert_exporter": "python",
   "pygments_lexer": "ipython3",
   "version": "3.7.7"
  }
 },
 "nbformat": 4,
 "nbformat_minor": 2
}
